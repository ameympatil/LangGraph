{
 "cells": [
  {
   "cell_type": "code",
   "execution_count": 1,
   "id": "3e8cde32",
   "metadata": {},
   "outputs": [],
   "source": [
    "from langgraph.graph import StateGraph, START, END\n",
    "from typing import TypedDict, Annotated\n",
    "from pydantic import Field, BaseModel\n",
    "from dotenv import load_dotenv\n",
    "import os\n",
    "import operator\n",
    "load_dotenv()\n",
    "from langchain_google_genai import ChatGoogleGenerativeAI"
   ]
  },
  {
   "cell_type": "code",
   "execution_count": 2,
   "id": "dbcb2e85",
   "metadata": {},
   "outputs": [],
   "source": [
    "def get_gemini_model():\n",
    "    model = ChatGoogleGenerativeAI(\n",
    "        google_api_key=os.getenv(\"GOOGLE_API_KEY\"),\n",
    "        model=\"gemini-2.5-flash-lite\",\n",
    "        temperature=0,\n",
    "    )\n",
    "    return model"
   ]
  },
  {
   "cell_type": "code",
   "execution_count": 3,
   "id": "7c46478c",
   "metadata": {},
   "outputs": [],
   "source": [
    "class EvaluationSchema(BaseModel):\n",
    "    feedback: str = Field(description=\"Detailed feedback on the essay\")\n",
    "    score: float = Field(ge=0, le=10, description=\"Score between 0 and 10\")\n",
    "    \n",
    "llm = get_gemini_model()\n",
    "llm_structured = llm.with_structured_output(EvaluationSchema)"
   ]
  },
  {
   "cell_type": "code",
   "execution_count": 4,
   "id": "d06b177f",
   "metadata": {},
   "outputs": [],
   "source": [
    "class UPSCState(TypedDict):\n",
    "    essay_text: str\n",
    "    clarity_feedback: str\n",
    "    analysis_feedback: str\n",
    "    language_feedback: str\n",
    "    overall_feedback: str\n",
    "    individual_score: Annotated[list[int], operator.add]\n",
    "    final_score: float "
   ]
  },
  {
   "cell_type": "code",
   "execution_count": 15,
   "id": "b1afffc3",
   "metadata": {},
   "outputs": [],
   "source": [
    "def evaluate_language(state: UPSCState) -> UPSCState:\n",
    "    prompt = f\"\"\"\n",
    "    You are an expert evaluator for UPSC essays. Evaluate the following essay for language clarity, grammar, and coherence. Provide detailed feedback and a score between 0 and 10.\n",
    "\n",
    "    Essay:\n",
    "    {state['essay_text']}\n",
    "    \"\"\"\n",
    "    result = llm_structured.invoke(prompt)\n",
    "    return {'language_feedback': result.feedback, 'individual_score': [result.score]}\n",
    "\n",
    "def evaluate_thought(state: UPSCState) -> UPSCState:\n",
    "    prompt = f\"\"\"\n",
    "    You are an expert evaluator for UPSC essays. Evaluate the following essay for depth of thought, originality, and critical analysis. Provide detailed feedback and a score between 0 and 10.\n",
    "\n",
    "    Essay:\n",
    "    {state['essay_text']}\n",
    "    \"\"\"\n",
    "    result = llm_structured.invoke(prompt)\n",
    "    return {'clarity_feedback': result.feedback, 'individual_score': [result.score]}\n",
    "\n",
    "def evaluate_analysis(state: UPSCState) -> UPSCState:\n",
    "    prompt = f\"\"\"\n",
    "    You are an expert evaluator for UPSC essays. Evaluate the following essay for analytical skills, use of evidence, and argument structure. Provide detailed feedback and a score between 0 and 10.\n",
    "\n",
    "    Essay:\n",
    "    {state['essay_text']}\n",
    "    \"\"\"\n",
    "    result = llm_structured.invoke(prompt)\n",
    "    return {'analysis_feedback': result.feedback, 'individual_score': [result.score]}\n",
    "\n",
    "def final_evaluation(state: UPSCState) -> UPSCState:\n",
    "    prompt = f\"\"\"\n",
    "    You are an expert evaluator for UPSC essays. Based on the following feedback from different evaluators, provide an overall feedback summary.\n",
    "\n",
    "    Language Feedback:\n",
    "    {state['language_feedback']}\n",
    "\n",
    "    Thought Feedback:\n",
    "    {state['clarity_feedback']}\n",
    "\n",
    "    Analysis Feedback:\n",
    "    {state['analysis_feedback']}\n",
    "    \"\"\"\n",
    "    result = llm.invoke(prompt)\n",
    "    overall_feedback = result.content\n",
    "    final_score = sum(state['individual_score']) / len(state['individual_score'])\n",
    "    return {'overall_feedback': overall_feedback, 'final_score': final_score}"
   ]
  },
  {
   "cell_type": "code",
   "execution_count": 16,
   "id": "5b0b6ebe",
   "metadata": {},
   "outputs": [],
   "source": [
    "graph = StateGraph(UPSCState)\n",
    "\n",
    "#nodes\n",
    "graph.add_node(\"Evaluate Language\", evaluate_language)\n",
    "graph.add_node(\"Evaluate Thought\", evaluate_thought)\n",
    "graph.add_node(\"Evaluate Analysis\", evaluate_analysis)\n",
    "graph.add_node(\"Final Evaluation\", final_evaluation)\n",
    "\n",
    "#edges\n",
    "graph.add_edge(START, \"Evaluate Language\")\n",
    "graph.add_edge(START, \"Evaluate Thought\")\n",
    "graph.add_edge(START, \"Evaluate Analysis\")\n",
    "graph.add_edge(\"Evaluate Language\", \"Final Evaluation\")\n",
    "graph.add_edge(\"Evaluate Thought\", \"Final Evaluation\")\n",
    "graph.add_edge(\"Evaluate Analysis\", \"Final Evaluation\")\n",
    "graph.add_edge(\"Final Evaluation\", END)\n",
    "\n",
    "workflow = graph.compile()"
   ]
  },
  {
   "cell_type": "code",
   "execution_count": 17,
   "id": "2948ae07",
   "metadata": {},
   "outputs": [],
   "source": [
    "initial_state = {\n",
    "    \"essay_text\": \"\"\"Every generation is defined by unique values, priorities, and approaches to life. With the rise of Gen Z—those born roughly between 1997 and 2012—the workplace has witnessed fresh energy, creativity, and technological savvy. However, along with these strengths, a recurring criticism is that Gen Zs appear irresponsible when it comes to fulfilling their responsibilities towards work. While this generalization does not apply to every individual, there are noticeable patterns that raise concerns among employers and older colleagues.\n",
    "\n",
    "One of the most prominent issues is the lack of commitment. Many Gen Z employees view jobs as stepping stones rather than long-term careers. Instead of dedicating themselves fully to one role, they tend to switch frequently in search of higher pay, flexible hours, or a more fulfilling environment. While job mobility is not inherently negative, frequent shifts can reflect a lack of accountability and disrupt organizational stability.\n",
    "\n",
    "Secondly, work ethic and patience are often questioned. Gen Z has grown up in a fast-paced, instant-gratification world shaped by social media, apps, and quick solutions. As a result, they may expect rapid promotions, recognition, and rewards without putting in the sustained effort traditionally required. When challenges arise, some are quick to disengage or complain rather than demonstrate resilience and responsibility.\n",
    "\n",
    "Another factor is their blurred boundary between personal life and professional duties. Gen Z values work-life balance to such an extent that they often prioritize personal well-being, hobbies, or side hustles over the core responsibilities of their main job. While self-care is important, the excessive focus on personal comfort sometimes comes at the expense of organizational goals and deadlines.\n",
    "\n",
    "Moreover, Gen Z tends to exhibit overreliance on technology. While their digital fluency is a strength, it can also lead to irresponsibility. For instance, when faced with tasks requiring interpersonal communication, negotiation, or deep critical thinking, some Gen Z employees may struggle or avoid responsibility. Dependence on shortcuts and online tools may undermine accountability in situations that demand ownership and perseverance.\n",
    "\n",
    "In conclusion, Gen Z brings innovation, creativity, and adaptability to the workplace, but their approach is often criticized as irresponsible with regard to work responsibilities. Their frequent job-switching, impatience for growth, emphasis on personal over professional duties, and overreliance on technology highlight challenges for employers. To bridge this gap, organizations must create environments that balance Gen Z’s need for flexibility with the demands of accountability, while Gen Z must cultivate stronger discipline and long-term responsibility. Only then can they overcome this perception and contribute sustainably to the future of work.\"\"\"\n",
    "}"
   ]
  },
  {
   "cell_type": "code",
   "execution_count": 18,
   "id": "6a1bbd20",
   "metadata": {},
   "outputs": [
    {
     "data": {
      "text/plain": [
       "{'essay_text': 'Every generation is defined by unique values, priorities, and approaches to life. With the rise of Gen Z—those born roughly between 1997 and 2012—the workplace has witnessed fresh energy, creativity, and technological savvy. However, along with these strengths, a recurring criticism is that Gen Zs appear irresponsible when it comes to fulfilling their responsibilities towards work. While this generalization does not apply to every individual, there are noticeable patterns that raise concerns among employers and older colleagues.\\n\\nOne of the most prominent issues is the lack of commitment. Many Gen Z employees view jobs as stepping stones rather than long-term careers. Instead of dedicating themselves fully to one role, they tend to switch frequently in search of higher pay, flexible hours, or a more fulfilling environment. While job mobility is not inherently negative, frequent shifts can reflect a lack of accountability and disrupt organizational stability.\\n\\nSecondly, work ethic and patience are often questioned. Gen Z has grown up in a fast-paced, instant-gratification world shaped by social media, apps, and quick solutions. As a result, they may expect rapid promotions, recognition, and rewards without putting in the sustained effort traditionally required. When challenges arise, some are quick to disengage or complain rather than demonstrate resilience and responsibility.\\n\\nAnother factor is their blurred boundary between personal life and professional duties. Gen Z values work-life balance to such an extent that they often prioritize personal well-being, hobbies, or side hustles over the core responsibilities of their main job. While self-care is important, the excessive focus on personal comfort sometimes comes at the expense of organizational goals and deadlines.\\n\\nMoreover, Gen Z tends to exhibit overreliance on technology. While their digital fluency is a strength, it can also lead to irresponsibility. For instance, when faced with tasks requiring interpersonal communication, negotiation, or deep critical thinking, some Gen Z employees may struggle or avoid responsibility. Dependence on shortcuts and online tools may undermine accountability in situations that demand ownership and perseverance.\\n\\nIn conclusion, Gen Z brings innovation, creativity, and adaptability to the workplace, but their approach is often criticized as irresponsible with regard to work responsibilities. Their frequent job-switching, impatience for growth, emphasis on personal over professional duties, and overreliance on technology highlight challenges for employers. To bridge this gap, organizations must create environments that balance Gen Z’s need for flexibility with the demands of accountability, while Gen Z must cultivate stronger discipline and long-term responsibility. Only then can they overcome this perception and contribute sustainably to the future of work.',\n",
       " 'clarity_feedback': 'The essay touches upon a relevant and contemporary topic concerning the perceived work ethic of Gen Z. The author identifies several key areas of criticism: lack of commitment, questioning of work ethic and patience, blurred boundaries between personal and professional life, and overreliance on technology. The essay presents these points clearly and logically, offering a structured argument. \\n\\nHowever, the essay could benefit from greater depth of thought and originality. It relies heavily on common stereotypes and generalizations about Gen Z without delving into the underlying reasons for these behaviors or exploring counterarguments. For instance, while mentioning job mobility, it doesn\\'t explore the potential benefits of this, such as bringing diverse experiences and fresh perspectives. Similarly, the \"instant gratification\" point could be explored more nuancedly, perhaps by linking it to broader societal shifts or technological advancements that have indeed conditioned faster feedback loops. \\n\\nCritical analysis is present but could be strengthened. The essay states that Gen Z expects rapid promotions without sustained effort, but it doesn\\'t critically examine *why* this perception might exist or whether it\\'s a fair assessment. It would be more impactful to discuss how traditional career progression models might be misaligned with Gen Z\\'s expectations or how the gig economy and evolving work structures influence their career outlook. \\n\\nThe conclusion offers a balanced perspective by acknowledging Gen Z\\'s strengths and suggesting a need for mutual adaptation between employers and employees. However, the feedback loop could be more robust by suggesting specific strategies for organizations to foster accountability and for Gen Z individuals to develop discipline, rather than just stating the need for them. \\n\\nOverall, the essay provides a decent overview of a common perception but lacks the critical depth and original insights expected of a high-level evaluation. It stays on the surface of the issues rather than dissecting them thoroughly.',\n",
       " 'analysis_feedback': 'The essay provides a clear overview of the perceived shortcomings of Gen Z in the workplace, touching upon issues like commitment, work ethic, work-life balance, and technology reliance. The structure is logical, with an introduction, distinct points in the body, and a conclusion. However, the essay relies heavily on generalizations and lacks specific evidence or examples to substantiate its claims. While it acknowledges that the criticism may not apply to every individual, the overall tone leans towards a broad indictment rather than a nuanced analysis. The argument structure is present but could be strengthened by incorporating counterarguments or a more in-depth exploration of the underlying reasons for these perceived behaviors. For instance, instead of stating Gen Zs \"appear irresponsible,\" exploring the societal and economic factors that might contribute to their job-hopping tendencies would add analytical depth. The conclusion offers a balanced perspective by suggesting solutions, but the preceding points would benefit from more robust support. To improve, consider integrating data, expert opinions, or specific case studies to validate the observations about Gen Z',\n",
       " 'language_feedback': 'The essay provides a clear and well-structured argument regarding the perceived irresponsibility of Gen Z in the workplace. The author effectively identifies key areas of concern, such as lack of commitment, questioned work ethic, blurred work-life boundaries, and overreliance on technology. The language is generally clear and accessible, with good use of topic sentences to guide the reader. The conclusion summarizes the main points and offers a balanced perspective, suggesting solutions for both employers and Gen Z employees. \\n\\nAreas for improvement:\\n\\n1.  **Generalization vs. Nuance:** While the essay acknowledges that the generalization doesn\\'t apply to every individual, it could benefit from further nuance. Exploring specific examples or citing data (even anecdotally) could strengthen the points without resorting to broad stereotypes. For instance, instead of stating \"Many Gen Z employees view jobs as stepping stones,\" it could be phrased as \"A notable trend observed is that some Gen Z employees tend to view jobs as stepping stones...\"\\n2.  **Evidence/Examples:** The essay relies heavily on assertions. Incorporating brief, illustrative examples for each point would make the arguments more compelling. For example, when discussing impatience for growth, a brief mention of how this manifests (e.g., expecting immediate promotions after a few months) could be helpful.\\n3.  **Vocabulary and Sentence Structure:** While clarity is good, there are opportunities to enhance vocabulary and vary sentence structure for a more sophisticated tone, fitting for a UPSC essay. For instance, \"fresh energy, creativity, and technological savvy\" is good, but could be elevated. Similarly, some sentences are a bit lengthy and could be broken down for better flow.\\n4.  **Counterarguments/Alternative Perspectives:** A more robust essay might briefly touch upon why these traits are emerging (e.g., economic pressures, different societal expectations, the impact of the pandemic on work culture) or acknowledge the positive aspects of these perceived weaknesses (e.g., adaptability, challenging outdated norms).\\n5.  **Grammar and Punctuation:** The essay is largely free of grammatical errors. However, a careful proofread might catch minor issues. For example, ensure consistent use of apostrophes and commas, especially in complex sentences.\\n\\nOverall, the essay presents a coherent and relevant discussion on a contemporary issue. With more specific examples, a touch more nuance, and a slightly elevated linguistic style, it could be even stronger.',\n",
       " 'overall_feedback': '## Overall Feedback Summary for the Essay on Gen Z in the Workplace\\n\\nThis essay addresses a relevant and contemporary issue concerning the perceived work ethic and behaviors of Generation Z in the workplace. It presents a clear and logically structured argument, effectively identifying key areas of concern such as commitment, work ethic, work-life boundaries, and technology reliance. The language is generally accessible, and the conclusion offers a balanced perspective with suggestions for mutual adaptation.\\n\\nHowever, the essay\\'s primary weakness lies in its **heavy reliance on generalizations and a lack of depth in analysis and evidence**. While it acknowledges that these criticisms may not apply universally, the overall tone leans towards broad stereotypes rather than a nuanced exploration.\\n\\n**Key Strengths:**\\n\\n*   **Clear Structure and Argument:** The essay is well-organized with a discernible introduction, body paragraphs addressing specific points, and a concluding summary.\\n*   **Identification of Key Issues:** The author effectively pinpoints common perceptions and criticisms leveled against Gen Z in the workplace.\\n*   **Accessible Language:** The language is generally clear and easy to understand, with good use of topic sentences.\\n*   **Balanced Conclusion:** The conclusion attempts to offer a balanced perspective by acknowledging Gen Z\\'s strengths and suggesting solutions for both employers and employees.\\n\\n**Areas for Significant Improvement:**\\n\\n1.  **Nuance and Specificity:** The essay suffers from broad generalizations. Instead of stating \"Many Gen Z employees view jobs as stepping stones,\" it should adopt more cautious phrasing like \"A notable trend observed is that some Gen Z employees tend to view jobs as stepping stones...\" This would avoid painting the entire generation with the same brush.\\n2.  **Evidence and Examples:** The arguments are largely assertion-based. The essay would be significantly strengthened by incorporating brief, illustrative examples or anecdotal evidence to substantiate each point. For instance, when discussing impatience for growth, a concrete example of how this manifests (e.g., expecting rapid promotions after a short tenure) would be more impactful.\\n3.  **Depth of Thought and Critical Analysis:** The essay remains largely on the surface of the issues. It identifies common stereotypes but fails to delve into the underlying reasons for these behaviors. A more critical analysis would explore *why* these traits might be emerging, linking them to broader societal shifts, economic pressures, technological advancements, or the impact of events like the pandemic.\\n4.  **Exploration of Counterarguments and Alternative Perspectives:** The essay would benefit from acknowledging the positive aspects of Gen Z\\'s perceived weaknesses (e.g., adaptability, challenging outdated norms) and exploring alternative explanations for their behaviors. For example, instead of solely focusing on job mobility as a negative, its potential benefits in bringing diverse experiences and fresh perspectives could be discussed.\\n5.  **Elevated Linguistic Style and Sentence Structure:** While clear, the vocabulary and sentence structure could be more sophisticated to match the expectations of a UPSC essay. Varying sentence length and employing a richer lexicon would enhance the overall tone.\\n6.  **Robustness of Solutions:** The concluding suggestions for mutual adaptation are good, but they could be more concrete. Specific strategies for organizations to foster accountability and for Gen Z individuals to develop discipline would add more practical value.\\n7.  **Minor Grammatical and Punctuation Checks:** A thorough proofread is recommended to catch any minor errors in grammar and punctuation, ensuring consistent usage.\\n\\n**In essence, the essay provides a competent overview of a common perception but lacks the critical depth, analytical rigor, and evidential support expected of a high-level evaluation. To elevate its quality, the author needs to move beyond generalizations, substantiate claims with examples, and engage in a more profound exploration of the underlying causes and complexities of Gen Z\\'s workplace behaviors.**',\n",
       " 'individual_score': [6.5, 7.5, 6.5],\n",
       " 'final_score': 6.833333333333333}"
      ]
     },
     "execution_count": 18,
     "metadata": {},
     "output_type": "execute_result"
    }
   ],
   "source": [
    "workflow.invoke(initial_state)"
   ]
  },
  {
   "cell_type": "code",
   "execution_count": null,
   "id": "3600759d",
   "metadata": {},
   "outputs": [],
   "source": []
  }
 ],
 "metadata": {
  "kernelspec": {
   "display_name": ".venv (3.12.1)",
   "language": "python",
   "name": "python3"
  },
  "language_info": {
   "codemirror_mode": {
    "name": "ipython",
    "version": 3
   },
   "file_extension": ".py",
   "mimetype": "text/x-python",
   "name": "python",
   "nbconvert_exporter": "python",
   "pygments_lexer": "ipython3",
   "version": "3.12.1"
  }
 },
 "nbformat": 4,
 "nbformat_minor": 5
}
