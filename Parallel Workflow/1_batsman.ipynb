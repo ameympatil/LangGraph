{
 "cells": [
  {
   "cell_type": "code",
   "execution_count": 1,
   "id": "d7443d4a",
   "metadata": {},
   "outputs": [],
   "source": [
    "from langgraph.graph import StateGraph, START, END\n",
    "from typing import TypedDict"
   ]
  },
  {
   "cell_type": "code",
   "execution_count": 2,
   "id": "8dcea28a",
   "metadata": {},
   "outputs": [],
   "source": [
    "class BatsmanState(TypedDict):\n",
    "    runs: int\n",
    "    balls: int\n",
    "    fours: int\n",
    "    sixes: int\n",
    "    sr: float\n",
    "    bpb: float  # balls per boundary\n",
    "    boundary_percent: float\n",
    "    summary: str"
   ]
  },
  {
   "cell_type": "code",
   "execution_count": 3,
   "id": "42258411",
   "metadata": {},
   "outputs": [],
   "source": [
    "def calculate_strike_rate(state: BatsmanState) -> BatsmanState:\n",
    "    sr = (state[\"runs\"] / state[\"balls\"]) * 100\n",
    "    return {'sr': sr}\n",
    "\n",
    "def calculate_balls_per_boundary(state: BatsmanState) -> BatsmanState:\n",
    "    total_boundaries = state[\"fours\"] + state[\"sixes\"]\n",
    "    bpb = state[\"balls\"] / total_boundaries if total_boundaries > 0 else float('inf')\n",
    "    return {'bpb': bpb}\n",
    "\n",
    "def calculate_boundary_percentage(state: BatsmanState) -> BatsmanState:\n",
    "    total_boundary_runs = (state[\"fours\"]*4) + (state[\"sixes\"]*6)\n",
    "    boundary_percent = total_boundary_runs / state[\"runs\"] * 100 if state[\"runs\"] > 0 else 0\n",
    "    return {'boundary_percent': boundary_percent}\n",
    "\n",
    "def summary(state: BatsmanState) -> BatsmanState:\n",
    "    summary = f\"\"\"\n",
    "    Strike Rate: {state['sr']:.2f}\n",
    "    Balls per Boundary: {state['bpb']:.2f}\n",
    "    Boundary Percentage: {state['boundary_percent']:.2f}%\n",
    "    \"\"\"\n",
    "    return {'summary': summary}"
   ]
  },
  {
   "cell_type": "code",
   "execution_count": 4,
   "id": "87f1c702",
   "metadata": {},
   "outputs": [],
   "source": [
    "graph = StateGraph(BatsmanState)\n",
    "\n",
    "graph.add_node(\"Calculate Strike Rate\", calculate_strike_rate)\n",
    "graph.add_node(\"Calculate Balls Per Boundary\", calculate_balls_per_boundary)\n",
    "graph.add_node(\"Calculate Boundary Percentage\", calculate_boundary_percentage)\n",
    "graph.add_node(\"Summary\", summary)\n",
    "\n",
    "#edges\n",
    "graph.add_edge(START, \"Calculate Strike Rate\")\n",
    "graph.add_edge(START, \"Calculate Balls Per Boundary\")\n",
    "graph.add_edge(START, \"Calculate Boundary Percentage\")\n",
    "\n",
    "graph.add_edge(\"Calculate Strike Rate\", \"Summary\")\n",
    "graph.add_edge(\"Calculate Balls Per Boundary\", \"Summary\")\n",
    "graph.add_edge(\"Calculate Boundary Percentage\", \"Summary\")\n",
    "\n",
    "graph.add_edge(\"Summary\", END)\n",
    "\n",
    "workflow = graph.compile()"
   ]
  },
  {
   "cell_type": "code",
   "execution_count": 5,
   "id": "34cb03c4",
   "metadata": {},
   "outputs": [],
   "source": [
    "from langchain_core.runnables.graph_mermaid import MermaidDrawMethod\n",
    "import langchain_core.runnables.graph as graph_mod\n",
    "\n",
    "# Set the default draw method to Pyppeteer for local rendering\n",
    "graph_mod.DEFAULT_MERMAID_DRAW_METHOD = MermaidDrawMethod.PYPPETEER"
   ]
  },
  {
   "cell_type": "code",
   "execution_count": 9,
   "id": "e52b6a3f",
   "metadata": {},
   "outputs": [],
   "source": [
    "initial_state = {\n",
    "    \"runs\": 100,\n",
    "    \"balls\": 50,\n",
    "    \"fours\": 6,\n",
    "    \"sixes\": 4\n",
    "}\n",
    "\n",
    "final_state = workflow.invoke(initial_state)"
   ]
  },
  {
   "cell_type": "code",
   "execution_count": 10,
   "id": "fb5d070a",
   "metadata": {},
   "outputs": [
    {
     "data": {
      "text/plain": [
       "{'runs': 100,\n",
       " 'balls': 50,\n",
       " 'fours': 6,\n",
       " 'sixes': 4,\n",
       " 'sr': 200.0,\n",
       " 'bpb': 5.0,\n",
       " 'boundary_percent': 48.0,\n",
       " 'summary': '\\n    Strike Rate: 200.00\\n    Balls per Boundary: 5.00\\n    Boundary Percentage: 48.00%\\n    '}"
      ]
     },
     "execution_count": 10,
     "metadata": {},
     "output_type": "execute_result"
    }
   ],
   "source": [
    "final_state"
   ]
  },
  {
   "cell_type": "code",
   "execution_count": null,
   "id": "55ca73a7",
   "metadata": {},
   "outputs": [],
   "source": []
  }
 ],
 "metadata": {
  "kernelspec": {
   "display_name": ".venv (3.12.1)",
   "language": "python",
   "name": "python3"
  },
  "language_info": {
   "codemirror_mode": {
    "name": "ipython",
    "version": 3
   },
   "file_extension": ".py",
   "mimetype": "text/x-python",
   "name": "python",
   "nbconvert_exporter": "python",
   "pygments_lexer": "ipython3",
   "version": "3.12.1"
  }
 },
 "nbformat": 4,
 "nbformat_minor": 5
}
