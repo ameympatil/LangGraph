{
 "cells": [
  {
   "cell_type": "code",
   "execution_count": 43,
   "id": "c1440681",
   "metadata": {},
   "outputs": [
    {
     "data": {
      "text/plain": [
       "True"
      ]
     },
     "execution_count": 43,
     "metadata": {},
     "output_type": "execute_result"
    }
   ],
   "source": [
    "from langgraph.graph import StateGraph, START, END\n",
    "from typing import TypedDict\n",
    "from dotenv import load_dotenv\n",
    "import os\n",
    "from langchain_google_genai import ChatGoogleGenerativeAI\n",
    "from langgraph.checkpoint.memory import InMemorySaver\n",
    "\n",
    "load_dotenv()\n"
   ]
  },
  {
   "cell_type": "code",
   "execution_count": 26,
   "id": "42707fa7",
   "metadata": {},
   "outputs": [],
   "source": [
    "llm = ChatGoogleGenerativeAI(\n",
    "    google_api_key=os.getenv(\"GOOGLE_API_KEY\"),\n",
    "    temperature=0,\n",
    "    model=\"gemini-2.5-flash\",\n",
    ")"
   ]
  },
  {
   "cell_type": "code",
   "execution_count": 27,
   "id": "7c52c80f",
   "metadata": {},
   "outputs": [],
   "source": [
    "# Define the state structure\n",
    "class JokeState(TypedDict):\n",
    "    topic: str\n",
    "    joke: str\n",
    "    explanation: str"
   ]
  },
  {
   "cell_type": "code",
   "execution_count": null,
   "id": "476db30f",
   "metadata": {},
   "outputs": [],
   "source": [
    "# function\n",
    "\n",
    "\n",
    "def gen_joke(state: JokeState) -> str:\n",
    "    prompt = f\"You will be provided a topic. You task is to write a funniest joke on that topic. Topic: {state['topic']}\"\n",
    "    joke = llm.invoke(prompt).content\n",
    "    return {\"joke\": joke}\n",
    "\n",
    "\n",
    "def explain_joke(joke: str) -> str:\n",
    "    prompt = f\"You will be provided a joke. You task is to explain the joke in a simple way. Joke: {joke}\"\n",
    "    explanation = llm.invoke(prompt).content\n",
    "    return {\"explanation\": explanation}"
   ]
  },
  {
   "cell_type": "code",
   "execution_count": null,
   "id": "cfe7ff43",
   "metadata": {},
   "outputs": [],
   "source": [
    "# graph\n",
    "\n",
    "graph = StateGraph(JokeState)\n",
    "\n",
    "graph.add_node(\"gen_joke\", gen_joke)\n",
    "graph.add_node(\"explain_joke\", explain_joke)\n",
    "\n",
    "graph.add_edge(START, \"gen_joke\")\n",
    "graph.add_edge(\"gen_joke\", \"explain_joke\")\n",
    "graph.add_edge(\"explain_joke\", END)\n",
    "\n",
    "checkpointer = InMemorySaver()\n",
    "workflow = graph.compile(checkpointer=checkpointer)"
   ]
  },
  {
   "cell_type": "code",
   "execution_count": 37,
   "id": "cc9e07e3",
   "metadata": {},
   "outputs": [],
   "source": [
    "config = {\"configurable\": {\"thread_id\": \"1\"}}\n",
    "response = workflow.invoke({\"topic\": \"pizza\"}, config=config)"
   ]
  },
  {
   "cell_type": "code",
   "execution_count": 38,
   "id": "01d7b11e",
   "metadata": {},
   "outputs": [
    {
     "data": {
      "text/plain": [
       "{'topic': 'pizza',\n",
       " 'joke': 'Why did the pizza get a job?\\n\\nBecause it kneaded the dough!',\n",
       " 'explanation': 'This joke is a **pun**! It plays on two phrases that sound exactly alike but have different meanings:\\n\\n1.  **\"Kneaded the dough\"**: This is what you do when you make pizza or bread. You work the dough with your hands.\\n2.  **\"Needed the dough\"**: This means someone *needed money* (because \"dough\" is a slang term for money).\\n\\nThe humor comes from the idea that the pizza got a job because it literally \"kneaded the dough\" (as part of its nature), but the joke makes it sound like it \"needed money\" to live, just like a person would.'}"
      ]
     },
     "execution_count": 38,
     "metadata": {},
     "output_type": "execute_result"
    }
   ],
   "source": [
    "response"
   ]
  },
  {
   "cell_type": "code",
   "execution_count": 39,
   "id": "fd170c4b",
   "metadata": {},
   "outputs": [
    {
     "data": {
      "text/plain": [
       "StateSnapshot(values={'topic': 'pizza', 'joke': 'Why did the pizza get a job?\\n\\nBecause it kneaded the dough!', 'explanation': 'This joke is a **pun**! It plays on two phrases that sound exactly alike but have different meanings:\\n\\n1.  **\"Kneaded the dough\"**: This is what you do when you make pizza or bread. You work the dough with your hands.\\n2.  **\"Needed the dough\"**: This means someone *needed money* (because \"dough\" is a slang term for money).\\n\\nThe humor comes from the idea that the pizza got a job because it literally \"kneaded the dough\" (as part of its nature), but the joke makes it sound like it \"needed money\" to live, just like a person would.'}, next=(), config={'configurable': {'thread_id': '1', 'checkpoint_ns': '', 'checkpoint_id': '1f09a3ff-766a-65b1-8006-4eab8565cefb'}}, metadata={'source': 'loop', 'step': 6, 'parents': {}}, created_at='2025-09-25T18:46:37.280196+00:00', parent_config={'configurable': {'thread_id': '1', 'checkpoint_ns': '', 'checkpoint_id': '1f09a3ff-3de4-64d3-8005-e8fbc28a958c'}}, tasks=(), interrupts=())"
      ]
     },
     "execution_count": 39,
     "metadata": {},
     "output_type": "execute_result"
    }
   ],
   "source": [
    "workflow.get_state(config)"
   ]
  },
  {
   "cell_type": "code",
   "execution_count": 41,
   "id": "8a7e90fd",
   "metadata": {},
   "outputs": [
    {
     "data": {
      "text/plain": [
       "[StateSnapshot(values={'topic': 'pizza', 'joke': 'Why did the pizza get a job?\\n\\nBecause it kneaded the dough!', 'explanation': 'This joke is a **pun**! It plays on two phrases that sound exactly alike but have different meanings:\\n\\n1.  **\"Kneaded the dough\"**: This is what you do when you make pizza or bread. You work the dough with your hands.\\n2.  **\"Needed the dough\"**: This means someone *needed money* (because \"dough\" is a slang term for money).\\n\\nThe humor comes from the idea that the pizza got a job because it literally \"kneaded the dough\" (as part of its nature), but the joke makes it sound like it \"needed money\" to live, just like a person would.'}, next=(), config={'configurable': {'thread_id': '1', 'checkpoint_ns': '', 'checkpoint_id': '1f09a3ff-766a-65b1-8006-4eab8565cefb'}}, metadata={'source': 'loop', 'step': 6, 'parents': {}}, created_at='2025-09-25T18:46:37.280196+00:00', parent_config={'configurable': {'thread_id': '1', 'checkpoint_ns': '', 'checkpoint_id': '1f09a3ff-3de4-64d3-8005-e8fbc28a958c'}}, tasks=(), interrupts=()),\n",
       " StateSnapshot(values={'topic': 'pizza', 'joke': 'Why did the pizza get a job?\\n\\nBecause it kneaded the dough!', 'explanation': 'This joke plays on the stereotype that programmers interpret instructions very literally, like a computer.\\n\\nHere\\'s the breakdown:\\n\\n1.  **What the wife meant:** \"Go get one loaf of bread. *And if you see eggs, also get a dozen of those eggs.*\"\\n2.  **What the programmer heard (literally):** \"Get a loaf of bread. *Then*, check a condition: IF \\'they have eggs\\', THEN \\'get a dozen\\'.\"\\n3.  **The misunderstanding:** Because the wife didn\\'t explicitly say \"get a dozen *eggs*\", the programmer, being literal, applied \"a dozen\" to the *last item mentioned* that had a quantity – the bread.\\n4.  **The punchline:** Since they *did* have eggs (the condition was true), he executed the \"get a dozen\" instruction, applying it to the bread, resulting in 12 loaves instead of 1 loaf and 12 eggs.\\n\\nThe humor comes from his perfectly logical (but contextually absurd) interpretation of the instructions, much like a computer would follow code exactly as written, not as intended if the intention isn\\'t perfectly clear.'}, next=('explain_joke',), config={'configurable': {'thread_id': '1', 'checkpoint_ns': '', 'checkpoint_id': '1f09a3ff-3de4-64d3-8005-e8fbc28a958c'}}, metadata={'source': 'loop', 'step': 5, 'parents': {}}, created_at='2025-09-25T18:46:31.353262+00:00', parent_config={'configurable': {'thread_id': '1', 'checkpoint_ns': '', 'checkpoint_id': '1f09a3fe-c603-6e73-8004-f6ff7f8f9803'}}, tasks=(PregelTask(id='ce58846d-4b02-6322-cdbf-b0d13ad61a2c', name='explain_joke', path=('__pregel_pull', 'explain_joke'), error=None, interrupts=(), state=None, result={'explanation': 'This joke is a **pun**! It plays on two phrases that sound exactly alike but have different meanings:\\n\\n1.  **\"Kneaded the dough\"**: This is what you do when you make pizza or bread. You work the dough with your hands.\\n2.  **\"Needed the dough\"**: This means someone *needed money* (because \"dough\" is a slang term for money).\\n\\nThe humor comes from the idea that the pizza got a job because it literally \"kneaded the dough\" (as part of its nature), but the joke makes it sound like it \"needed money\" to live, just like a person would.'}),), interrupts=()),\n",
       " StateSnapshot(values={'topic': 'pizza', 'joke': 'A programmer\\'s wife tells him, \"Could you please go to the store and get a loaf of bread? And if they have eggs, get a dozen.\"\\n\\nThe programmer comes home with 12 loaves of bread.\\n\\nHis wife asks, \"Why did you get 12 loaves of bread?\"\\n\\nHe replies, \"They had eggs.\"', 'explanation': 'This joke plays on the stereotype that programmers interpret instructions very literally, like a computer.\\n\\nHere\\'s the breakdown:\\n\\n1.  **What the wife meant:** \"Go get one loaf of bread. *And if you see eggs, also get a dozen of those eggs.*\"\\n2.  **What the programmer heard (literally):** \"Get a loaf of bread. *Then*, check a condition: IF \\'they have eggs\\', THEN \\'get a dozen\\'.\"\\n3.  **The misunderstanding:** Because the wife didn\\'t explicitly say \"get a dozen *eggs*\", the programmer, being literal, applied \"a dozen\" to the *last item mentioned* that had a quantity – the bread.\\n4.  **The punchline:** Since they *did* have eggs (the condition was true), he executed the \"get a dozen\" instruction, applying it to the bread, resulting in 12 loaves instead of 1 loaf and 12 eggs.\\n\\nThe humor comes from his perfectly logical (but contextually absurd) interpretation of the instructions, much like a computer would follow code exactly as written, not as intended if the intention isn\\'t perfectly clear.'}, next=('gen_joke',), config={'configurable': {'thread_id': '1', 'checkpoint_ns': '', 'checkpoint_id': '1f09a3fe-c603-6e73-8004-f6ff7f8f9803'}}, metadata={'source': 'loop', 'step': 4, 'parents': {}}, created_at='2025-09-25T18:46:18.783294+00:00', parent_config={'configurable': {'thread_id': '1', 'checkpoint_ns': '', 'checkpoint_id': '1f09a3fe-c603-6e72-8003-361087a7ecf7'}}, tasks=(PregelTask(id='b71887e8-f1d6-27ad-ebb5-8a4cc10bb389', name='gen_joke', path=('__pregel_pull', 'gen_joke'), error=None, interrupts=(), state=None, result={'joke': 'Why did the pizza get a job?\\n\\nBecause it kneaded the dough!'}),), interrupts=()),\n",
       " StateSnapshot(values={'topic': 'programming', 'joke': 'A programmer\\'s wife tells him, \"Could you please go to the store and get a loaf of bread? And if they have eggs, get a dozen.\"\\n\\nThe programmer comes home with 12 loaves of bread.\\n\\nHis wife asks, \"Why did you get 12 loaves of bread?\"\\n\\nHe replies, \"They had eggs.\"', 'explanation': 'This joke plays on the stereotype that programmers interpret instructions very literally, like a computer.\\n\\nHere\\'s the breakdown:\\n\\n1.  **What the wife meant:** \"Go get one loaf of bread. *And if you see eggs, also get a dozen of those eggs.*\"\\n2.  **What the programmer heard (literally):** \"Get a loaf of bread. *Then*, check a condition: IF \\'they have eggs\\', THEN \\'get a dozen\\'.\"\\n3.  **The misunderstanding:** Because the wife didn\\'t explicitly say \"get a dozen *eggs*\", the programmer, being literal, applied \"a dozen\" to the *last item mentioned* that had a quantity – the bread.\\n4.  **The punchline:** Since they *did* have eggs (the condition was true), he executed the \"get a dozen\" instruction, applying it to the bread, resulting in 12 loaves instead of 1 loaf and 12 eggs.\\n\\nThe humor comes from his perfectly logical (but contextually absurd) interpretation of the instructions, much like a computer would follow code exactly as written, not as intended if the intention isn\\'t perfectly clear.'}, next=('__start__',), config={'configurable': {'thread_id': '1', 'checkpoint_ns': '', 'checkpoint_id': '1f09a3fe-c603-6e72-8003-361087a7ecf7'}}, metadata={'source': 'input', 'step': 3, 'parents': {}}, created_at='2025-09-25T18:46:18.783294+00:00', parent_config={'configurable': {'thread_id': '1', 'checkpoint_ns': '', 'checkpoint_id': '1f09a3fd-dce7-65ef-8002-5e2797b74e8b'}}, tasks=(PregelTask(id='2a253258-40da-558f-1103-a79ab3f7b640', name='__start__', path=('__pregel_pull', '__start__'), error=None, interrupts=(), state=None, result={'topic': 'pizza'}),), interrupts=()),\n",
       " StateSnapshot(values={'topic': 'programming', 'joke': 'A programmer\\'s wife tells him, \"Could you please go to the store and get a loaf of bread? And if they have eggs, get a dozen.\"\\n\\nThe programmer comes home with 12 loaves of bread.\\n\\nHis wife asks, \"Why did you get 12 loaves of bread?\"\\n\\nHe replies, \"They had eggs.\"', 'explanation': 'This joke plays on the stereotype that programmers interpret instructions very literally, like a computer.\\n\\nHere\\'s the breakdown:\\n\\n1.  **What the wife meant:** \"Go get one loaf of bread. *And if you see eggs, also get a dozen of those eggs.*\"\\n2.  **What the programmer heard (literally):** \"Get a loaf of bread. *Then*, check a condition: IF \\'they have eggs\\', THEN \\'get a dozen\\'.\"\\n3.  **The misunderstanding:** Because the wife didn\\'t explicitly say \"get a dozen *eggs*\", the programmer, being literal, applied \"a dozen\" to the *last item mentioned* that had a quantity – the bread.\\n4.  **The punchline:** Since they *did* have eggs (the condition was true), he executed the \"get a dozen\" instruction, applying it to the bread, resulting in 12 loaves instead of 1 loaf and 12 eggs.\\n\\nThe humor comes from his perfectly logical (but contextually absurd) interpretation of the instructions, much like a computer would follow code exactly as written, not as intended if the intention isn\\'t perfectly clear.'}, next=(), config={'configurable': {'thread_id': '1', 'checkpoint_ns': '', 'checkpoint_id': '1f09a3fd-dce7-65ef-8002-5e2797b74e8b'}}, metadata={'source': 'loop', 'step': 2, 'parents': {}}, created_at='2025-09-25T18:45:54.339787+00:00', parent_config={'configurable': {'thread_id': '1', 'checkpoint_ns': '', 'checkpoint_id': '1f09a3fd-7796-6fcc-8001-3b680d752ada'}}, tasks=(), interrupts=()),\n",
       " StateSnapshot(values={'topic': 'programming', 'joke': 'A programmer\\'s wife tells him, \"Could you please go to the store and get a loaf of bread? And if they have eggs, get a dozen.\"\\n\\nThe programmer comes home with 12 loaves of bread.\\n\\nHis wife asks, \"Why did you get 12 loaves of bread?\"\\n\\nHe replies, \"They had eggs.\"'}, next=('explain_joke',), config={'configurable': {'thread_id': '1', 'checkpoint_ns': '', 'checkpoint_id': '1f09a3fd-7796-6fcc-8001-3b680d752ada'}}, metadata={'source': 'loop', 'step': 1, 'parents': {}}, created_at='2025-09-25T18:45:43.716244+00:00', parent_config={'configurable': {'thread_id': '1', 'checkpoint_ns': '', 'checkpoint_id': '1f09a3fd-2125-6f25-8000-d88bd1693b99'}}, tasks=(PregelTask(id='813d35f9-d165-627e-7645-34b8e9254d18', name='explain_joke', path=('__pregel_pull', 'explain_joke'), error=None, interrupts=(), state=None, result={'explanation': 'This joke plays on the stereotype that programmers interpret instructions very literally, like a computer.\\n\\nHere\\'s the breakdown:\\n\\n1.  **What the wife meant:** \"Go get one loaf of bread. *And if you see eggs, also get a dozen of those eggs.*\"\\n2.  **What the programmer heard (literally):** \"Get a loaf of bread. *Then*, check a condition: IF \\'they have eggs\\', THEN \\'get a dozen\\'.\"\\n3.  **The misunderstanding:** Because the wife didn\\'t explicitly say \"get a dozen *eggs*\", the programmer, being literal, applied \"a dozen\" to the *last item mentioned* that had a quantity – the bread.\\n4.  **The punchline:** Since they *did* have eggs (the condition was true), he executed the \"get a dozen\" instruction, applying it to the bread, resulting in 12 loaves instead of 1 loaf and 12 eggs.\\n\\nThe humor comes from his perfectly logical (but contextually absurd) interpretation of the instructions, much like a computer would follow code exactly as written, not as intended if the intention isn\\'t perfectly clear.'}),), interrupts=()),\n",
       " StateSnapshot(values={'topic': 'programming'}, next=('gen_joke',), config={'configurable': {'thread_id': '1', 'checkpoint_ns': '', 'checkpoint_id': '1f09a3fd-2125-6f25-8000-d88bd1693b99'}}, metadata={'source': 'loop', 'step': 0, 'parents': {}}, created_at='2025-09-25T18:45:34.652189+00:00', parent_config={'configurable': {'thread_id': '1', 'checkpoint_ns': '', 'checkpoint_id': '1f09a3fd-2121-60f3-bfff-91f94ae5cb43'}}, tasks=(PregelTask(id='c9753daf-0105-c9a1-72fd-3d32dae5616a', name='gen_joke', path=('__pregel_pull', 'gen_joke'), error=None, interrupts=(), state=None, result={'joke': 'A programmer\\'s wife tells him, \"Could you please go to the store and get a loaf of bread? And if they have eggs, get a dozen.\"\\n\\nThe programmer comes home with 12 loaves of bread.\\n\\nHis wife asks, \"Why did you get 12 loaves of bread?\"\\n\\nHe replies, \"They had eggs.\"'}),), interrupts=()),\n",
       " StateSnapshot(values={}, next=('__start__',), config={'configurable': {'thread_id': '1', 'checkpoint_ns': '', 'checkpoint_id': '1f09a3fd-2121-60f3-bfff-91f94ae5cb43'}}, metadata={'source': 'input', 'step': -1, 'parents': {}}, created_at='2025-09-25T18:45:34.650187+00:00', parent_config=None, tasks=(PregelTask(id='76fa5e40-b406-2d7e-af59-13aba85fc9ea', name='__start__', path=('__pregel_pull', '__start__'), error=None, interrupts=(), state=None, result={'topic': 'programming'}),), interrupts=())]"
      ]
     },
     "execution_count": 41,
     "metadata": {},
     "output_type": "execute_result"
    }
   ],
   "source": [
    "list(workflow.get_state_history(config))"
   ]
  },
  {
   "cell_type": "markdown",
   "id": "5c95f7e3",
   "metadata": {},
   "source": [
    "## Time Travel"
   ]
  },
  {
   "cell_type": "code",
   "execution_count": 44,
   "id": "90b4fa87",
   "metadata": {},
   "outputs": [
    {
     "data": {
      "text/plain": [
       "StateSnapshot(values={'topic': 'pizza', 'joke': 'Why did the pizza get a job?\\n\\nBecause it kneaded the dough!', 'explanation': 'This joke is a **pun**! It plays on two phrases that sound exactly alike but have different meanings:\\n\\n1.  **\"Kneaded the dough\"**: This is what you do when you make pizza or bread. You work the dough with your hands.\\n2.  **\"Needed the dough\"**: This means someone *needed money* (because \"dough\" is a slang term for money).\\n\\nThe humor comes from the idea that the pizza got a job because it literally \"kneaded the dough\" (as part of its nature), but the joke makes it sound like it \"needed money\" to live, just like a person would.'}, next=(), config={'configurable': {'thread_id': '1', 'checkpoint_ns': '', 'checkpoint_id': '1f09a3ff-766a-65b1-8006-4eab8565cefb'}}, metadata={'source': 'loop', 'step': 6, 'parents': {}}, created_at='2025-09-25T18:46:37.280196+00:00', parent_config={'configurable': {'thread_id': '1', 'checkpoint_ns': '', 'checkpoint_id': '1f09a3ff-3de4-64d3-8005-e8fbc28a958c'}}, tasks=(), interrupts=())"
      ]
     },
     "execution_count": 44,
     "metadata": {},
     "output_type": "execute_result"
    }
   ],
   "source": [
    "workflow.get_state(config={\"configurable\": {\"thread_id\": \"1\", \"checkpoint\": \"1f09a3fe-c603-6e73-8004-f6ff7f8f9803\"}})"
   ]
  },
  {
   "cell_type": "code",
   "execution_count": 45,
   "id": "704bfb34",
   "metadata": {},
   "outputs": [
    {
     "data": {
      "text/plain": [
       "{'topic': 'pizza',\n",
       " 'joke': 'Why did the pizza get a job?\\n\\nBecause it kneaded the dough!',\n",
       " 'explanation': 'This joke is a **pun**! It plays on two phrases that sound exactly alike but have different meanings:\\n\\n1.  **\"Kneaded the dough\"**: This is what you do when you make pizza or bread. You work the dough with your hands.\\n2.  **\"Needed the dough\"**: This means someone *needed money* (because \"dough\" is a slang term for money).\\n\\nThe humor comes from the idea that the pizza got a job because it literally \"kneaded the dough\" (as part of its nature), but the joke makes it sound like it \"needed money\" to live, just like a person would.'}"
      ]
     },
     "execution_count": 45,
     "metadata": {},
     "output_type": "execute_result"
    }
   ],
   "source": [
    "workflow.invoke(None, config={\"configurable\": {\"thread_id\": \"1\", \"checkpoint\": \"1f09a3fe-c603-6e73-8004-f6ff7f8f9803\"}})"
   ]
  },
  {
   "cell_type": "code",
   "execution_count": 50,
   "id": "aaa9d379",
   "metadata": {},
   "outputs": [
    {
     "data": {
      "text/plain": [
       "[StateSnapshot(values={'topic': 'technology'}, next=('gen_joke',), config={'configurable': {'thread_id': '1', 'checkpoint_ns': '', 'checkpoint_id': '1f09a446-6986-61c8-8001-ffa88202883f'}}, metadata={'source': 'update', 'step': 1, 'parents': {}}, created_at='2025-09-25T19:18:21.820154+00:00', parent_config={'configurable': {'thread_id': '1', 'checkpoint_ns': '', 'checkpoint_id': '1f09a3fd-2125-6f25-8000-d88bd1693b99'}}, tasks=(PregelTask(id='c99b738e-7a07-d7ac-97bc-90f447c55510', name='gen_joke', path=('__pregel_pull', 'gen_joke'), error=None, interrupts=(), state=None, result=None),), interrupts=()),\n",
       " StateSnapshot(values={'topic': 'pizza', 'joke': 'Why did the pizza get a job?\\n\\nBecause it kneaded the dough!', 'explanation': 'This joke is a **pun**! It plays on two phrases that sound exactly alike but have different meanings:\\n\\n1.  **\"Kneaded the dough\"**: This is what you do when you make pizza or bread. You work the dough with your hands.\\n2.  **\"Needed the dough\"**: This means someone *needed money* (because \"dough\" is a slang term for money).\\n\\nThe humor comes from the idea that the pizza got a job because it literally \"kneaded the dough\" (as part of its nature), but the joke makes it sound like it \"needed money\" to live, just like a person would.'}, next=(), config={'configurable': {'thread_id': '1', 'checkpoint_ns': '', 'checkpoint_id': '1f09a3ff-766a-65b1-8006-4eab8565cefb'}}, metadata={'source': 'loop', 'step': 6, 'parents': {}}, created_at='2025-09-25T18:46:37.280196+00:00', parent_config={'configurable': {'thread_id': '1', 'checkpoint_ns': '', 'checkpoint_id': '1f09a3ff-3de4-64d3-8005-e8fbc28a958c'}}, tasks=(), interrupts=()),\n",
       " StateSnapshot(values={'topic': 'pizza', 'joke': 'Why did the pizza get a job?\\n\\nBecause it kneaded the dough!', 'explanation': 'This joke plays on the stereotype that programmers interpret instructions very literally, like a computer.\\n\\nHere\\'s the breakdown:\\n\\n1.  **What the wife meant:** \"Go get one loaf of bread. *And if you see eggs, also get a dozen of those eggs.*\"\\n2.  **What the programmer heard (literally):** \"Get a loaf of bread. *Then*, check a condition: IF \\'they have eggs\\', THEN \\'get a dozen\\'.\"\\n3.  **The misunderstanding:** Because the wife didn\\'t explicitly say \"get a dozen *eggs*\", the programmer, being literal, applied \"a dozen\" to the *last item mentioned* that had a quantity – the bread.\\n4.  **The punchline:** Since they *did* have eggs (the condition was true), he executed the \"get a dozen\" instruction, applying it to the bread, resulting in 12 loaves instead of 1 loaf and 12 eggs.\\n\\nThe humor comes from his perfectly logical (but contextually absurd) interpretation of the instructions, much like a computer would follow code exactly as written, not as intended if the intention isn\\'t perfectly clear.'}, next=('explain_joke',), config={'configurable': {'thread_id': '1', 'checkpoint_ns': '', 'checkpoint_id': '1f09a3ff-3de4-64d3-8005-e8fbc28a958c'}}, metadata={'source': 'loop', 'step': 5, 'parents': {}}, created_at='2025-09-25T18:46:31.353262+00:00', parent_config={'configurable': {'thread_id': '1', 'checkpoint_ns': '', 'checkpoint_id': '1f09a3fe-c603-6e73-8004-f6ff7f8f9803'}}, tasks=(PregelTask(id='ce58846d-4b02-6322-cdbf-b0d13ad61a2c', name='explain_joke', path=('__pregel_pull', 'explain_joke'), error=None, interrupts=(), state=None, result={'explanation': 'This joke is a **pun**! It plays on two phrases that sound exactly alike but have different meanings:\\n\\n1.  **\"Kneaded the dough\"**: This is what you do when you make pizza or bread. You work the dough with your hands.\\n2.  **\"Needed the dough\"**: This means someone *needed money* (because \"dough\" is a slang term for money).\\n\\nThe humor comes from the idea that the pizza got a job because it literally \"kneaded the dough\" (as part of its nature), but the joke makes it sound like it \"needed money\" to live, just like a person would.'}),), interrupts=()),\n",
       " StateSnapshot(values={'topic': 'pizza', 'joke': 'A programmer\\'s wife tells him, \"Could you please go to the store and get a loaf of bread? And if they have eggs, get a dozen.\"\\n\\nThe programmer comes home with 12 loaves of bread.\\n\\nHis wife asks, \"Why did you get 12 loaves of bread?\"\\n\\nHe replies, \"They had eggs.\"', 'explanation': 'This joke plays on the stereotype that programmers interpret instructions very literally, like a computer.\\n\\nHere\\'s the breakdown:\\n\\n1.  **What the wife meant:** \"Go get one loaf of bread. *And if you see eggs, also get a dozen of those eggs.*\"\\n2.  **What the programmer heard (literally):** \"Get a loaf of bread. *Then*, check a condition: IF \\'they have eggs\\', THEN \\'get a dozen\\'.\"\\n3.  **The misunderstanding:** Because the wife didn\\'t explicitly say \"get a dozen *eggs*\", the programmer, being literal, applied \"a dozen\" to the *last item mentioned* that had a quantity – the bread.\\n4.  **The punchline:** Since they *did* have eggs (the condition was true), he executed the \"get a dozen\" instruction, applying it to the bread, resulting in 12 loaves instead of 1 loaf and 12 eggs.\\n\\nThe humor comes from his perfectly logical (but contextually absurd) interpretation of the instructions, much like a computer would follow code exactly as written, not as intended if the intention isn\\'t perfectly clear.'}, next=('gen_joke',), config={'configurable': {'thread_id': '1', 'checkpoint_ns': '', 'checkpoint_id': '1f09a3fe-c603-6e73-8004-f6ff7f8f9803'}}, metadata={'source': 'loop', 'step': 4, 'parents': {}}, created_at='2025-09-25T18:46:18.783294+00:00', parent_config={'configurable': {'thread_id': '1', 'checkpoint_ns': '', 'checkpoint_id': '1f09a3fe-c603-6e72-8003-361087a7ecf7'}}, tasks=(PregelTask(id='b71887e8-f1d6-27ad-ebb5-8a4cc10bb389', name='gen_joke', path=('__pregel_pull', 'gen_joke'), error=None, interrupts=(), state=None, result={'joke': 'Why did the pizza get a job?\\n\\nBecause it kneaded the dough!'}),), interrupts=()),\n",
       " StateSnapshot(values={'topic': 'programming', 'joke': 'A programmer\\'s wife tells him, \"Could you please go to the store and get a loaf of bread? And if they have eggs, get a dozen.\"\\n\\nThe programmer comes home with 12 loaves of bread.\\n\\nHis wife asks, \"Why did you get 12 loaves of bread?\"\\n\\nHe replies, \"They had eggs.\"', 'explanation': 'This joke plays on the stereotype that programmers interpret instructions very literally, like a computer.\\n\\nHere\\'s the breakdown:\\n\\n1.  **What the wife meant:** \"Go get one loaf of bread. *And if you see eggs, also get a dozen of those eggs.*\"\\n2.  **What the programmer heard (literally):** \"Get a loaf of bread. *Then*, check a condition: IF \\'they have eggs\\', THEN \\'get a dozen\\'.\"\\n3.  **The misunderstanding:** Because the wife didn\\'t explicitly say \"get a dozen *eggs*\", the programmer, being literal, applied \"a dozen\" to the *last item mentioned* that had a quantity – the bread.\\n4.  **The punchline:** Since they *did* have eggs (the condition was true), he executed the \"get a dozen\" instruction, applying it to the bread, resulting in 12 loaves instead of 1 loaf and 12 eggs.\\n\\nThe humor comes from his perfectly logical (but contextually absurd) interpretation of the instructions, much like a computer would follow code exactly as written, not as intended if the intention isn\\'t perfectly clear.'}, next=('__start__',), config={'configurable': {'thread_id': '1', 'checkpoint_ns': '', 'checkpoint_id': '1f09a3fe-c603-6e72-8003-361087a7ecf7'}}, metadata={'source': 'input', 'step': 3, 'parents': {}}, created_at='2025-09-25T18:46:18.783294+00:00', parent_config={'configurable': {'thread_id': '1', 'checkpoint_ns': '', 'checkpoint_id': '1f09a3fd-dce7-65ef-8002-5e2797b74e8b'}}, tasks=(PregelTask(id='2a253258-40da-558f-1103-a79ab3f7b640', name='__start__', path=('__pregel_pull', '__start__'), error=None, interrupts=(), state=None, result={'topic': 'pizza'}),), interrupts=()),\n",
       " StateSnapshot(values={'topic': 'programming', 'joke': 'A programmer\\'s wife tells him, \"Could you please go to the store and get a loaf of bread? And if they have eggs, get a dozen.\"\\n\\nThe programmer comes home with 12 loaves of bread.\\n\\nHis wife asks, \"Why did you get 12 loaves of bread?\"\\n\\nHe replies, \"They had eggs.\"', 'explanation': 'This joke plays on the stereotype that programmers interpret instructions very literally, like a computer.\\n\\nHere\\'s the breakdown:\\n\\n1.  **What the wife meant:** \"Go get one loaf of bread. *And if you see eggs, also get a dozen of those eggs.*\"\\n2.  **What the programmer heard (literally):** \"Get a loaf of bread. *Then*, check a condition: IF \\'they have eggs\\', THEN \\'get a dozen\\'.\"\\n3.  **The misunderstanding:** Because the wife didn\\'t explicitly say \"get a dozen *eggs*\", the programmer, being literal, applied \"a dozen\" to the *last item mentioned* that had a quantity – the bread.\\n4.  **The punchline:** Since they *did* have eggs (the condition was true), he executed the \"get a dozen\" instruction, applying it to the bread, resulting in 12 loaves instead of 1 loaf and 12 eggs.\\n\\nThe humor comes from his perfectly logical (but contextually absurd) interpretation of the instructions, much like a computer would follow code exactly as written, not as intended if the intention isn\\'t perfectly clear.'}, next=(), config={'configurable': {'thread_id': '1', 'checkpoint_ns': '', 'checkpoint_id': '1f09a3fd-dce7-65ef-8002-5e2797b74e8b'}}, metadata={'source': 'loop', 'step': 2, 'parents': {}}, created_at='2025-09-25T18:45:54.339787+00:00', parent_config={'configurable': {'thread_id': '1', 'checkpoint_ns': '', 'checkpoint_id': '1f09a3fd-7796-6fcc-8001-3b680d752ada'}}, tasks=(), interrupts=()),\n",
       " StateSnapshot(values={'topic': 'programming', 'joke': 'A programmer\\'s wife tells him, \"Could you please go to the store and get a loaf of bread? And if they have eggs, get a dozen.\"\\n\\nThe programmer comes home with 12 loaves of bread.\\n\\nHis wife asks, \"Why did you get 12 loaves of bread?\"\\n\\nHe replies, \"They had eggs.\"'}, next=('explain_joke',), config={'configurable': {'thread_id': '1', 'checkpoint_ns': '', 'checkpoint_id': '1f09a3fd-7796-6fcc-8001-3b680d752ada'}}, metadata={'source': 'loop', 'step': 1, 'parents': {}}, created_at='2025-09-25T18:45:43.716244+00:00', parent_config={'configurable': {'thread_id': '1', 'checkpoint_ns': '', 'checkpoint_id': '1f09a3fd-2125-6f25-8000-d88bd1693b99'}}, tasks=(PregelTask(id='813d35f9-d165-627e-7645-34b8e9254d18', name='explain_joke', path=('__pregel_pull', 'explain_joke'), error=None, interrupts=(), state=None, result={'explanation': 'This joke plays on the stereotype that programmers interpret instructions very literally, like a computer.\\n\\nHere\\'s the breakdown:\\n\\n1.  **What the wife meant:** \"Go get one loaf of bread. *And if you see eggs, also get a dozen of those eggs.*\"\\n2.  **What the programmer heard (literally):** \"Get a loaf of bread. *Then*, check a condition: IF \\'they have eggs\\', THEN \\'get a dozen\\'.\"\\n3.  **The misunderstanding:** Because the wife didn\\'t explicitly say \"get a dozen *eggs*\", the programmer, being literal, applied \"a dozen\" to the *last item mentioned* that had a quantity – the bread.\\n4.  **The punchline:** Since they *did* have eggs (the condition was true), he executed the \"get a dozen\" instruction, applying it to the bread, resulting in 12 loaves instead of 1 loaf and 12 eggs.\\n\\nThe humor comes from his perfectly logical (but contextually absurd) interpretation of the instructions, much like a computer would follow code exactly as written, not as intended if the intention isn\\'t perfectly clear.'}),), interrupts=()),\n",
       " StateSnapshot(values={'topic': 'programming'}, next=('gen_joke',), config={'configurable': {'thread_id': '1', 'checkpoint_ns': '', 'checkpoint_id': '1f09a3fd-2125-6f25-8000-d88bd1693b99'}}, metadata={'source': 'loop', 'step': 0, 'parents': {}}, created_at='2025-09-25T18:45:34.652189+00:00', parent_config={'configurable': {'thread_id': '1', 'checkpoint_ns': '', 'checkpoint_id': '1f09a3fd-2121-60f3-bfff-91f94ae5cb43'}}, tasks=(PregelTask(id='c9753daf-0105-c9a1-72fd-3d32dae5616a', name='gen_joke', path=('__pregel_pull', 'gen_joke'), error=None, interrupts=(), state=None, result={'joke': 'A programmer\\'s wife tells him, \"Could you please go to the store and get a loaf of bread? And if they have eggs, get a dozen.\"\\n\\nThe programmer comes home with 12 loaves of bread.\\n\\nHis wife asks, \"Why did you get 12 loaves of bread?\"\\n\\nHe replies, \"They had eggs.\"'}),), interrupts=()),\n",
       " StateSnapshot(values={}, next=('__start__',), config={'configurable': {'thread_id': '1', 'checkpoint_ns': '', 'checkpoint_id': '1f09a3fd-2121-60f3-bfff-91f94ae5cb43'}}, metadata={'source': 'input', 'step': -1, 'parents': {}}, created_at='2025-09-25T18:45:34.650187+00:00', parent_config=None, tasks=(PregelTask(id='76fa5e40-b406-2d7e-af59-13aba85fc9ea', name='__start__', path=('__pregel_pull', '__start__'), error=None, interrupts=(), state=None, result={'topic': 'programming'}),), interrupts=())]"
      ]
     },
     "execution_count": 50,
     "metadata": {},
     "output_type": "execute_result"
    }
   ],
   "source": [
    "list(workflow.get_state_history(config))"
   ]
  },
  {
   "cell_type": "code",
   "execution_count": 49,
   "id": "0c1e8ea0",
   "metadata": {},
   "outputs": [
    {
     "data": {
      "text/plain": [
       "{'configurable': {'thread_id': '1',\n",
       "  'checkpoint_ns': '',\n",
       "  'checkpoint_id': '1f09a446-6986-61c8-8001-ffa88202883f'}}"
      ]
     },
     "execution_count": 49,
     "metadata": {},
     "output_type": "execute_result"
    }
   ],
   "source": [
    "workflow.update_state(\n",
    "    {\"configurable\": {\"thread_id\": \"1\", \"checkpoint_id\": \"1f09a3fd-2125-6f25-8000-d88bd1693b99\", \"checkpoint_ns\":\"\"}},\n",
    "    {\"topic\": \"technology\"}\n",
    ")"
   ]
  },
  {
   "cell_type": "code",
   "execution_count": null,
   "id": "3bb736bd",
   "metadata": {},
   "outputs": [],
   "source": []
  }
 ],
 "metadata": {
  "kernelspec": {
   "display_name": ".venv (3.12.1)",
   "language": "python",
   "name": "python3"
  },
  "language_info": {
   "codemirror_mode": {
    "name": "ipython",
    "version": 3
   },
   "file_extension": ".py",
   "mimetype": "text/x-python",
   "name": "python",
   "nbconvert_exporter": "python",
   "pygments_lexer": "ipython3",
   "version": "3.12.1"
  }
 },
 "nbformat": 4,
 "nbformat_minor": 5
}
