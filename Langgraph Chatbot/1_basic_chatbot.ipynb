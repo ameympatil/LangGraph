{
 "cells": [
  {
   "cell_type": "code",
   "execution_count": null,
   "id": "0c5becdf",
   "metadata": {},
   "outputs": [
    {
     "data": {
      "text/plain": [
       "True"
      ]
     },
     "execution_count": 62,
     "metadata": {},
     "output_type": "execute_result"
    }
   ],
   "source": [
    "from langgraph.graph import StateGraph, START, END\n",
    "from langchain_core.messages import HumanMessage, SystemMessage, AIMessage, BaseMessage\n",
    "from typing import TypedDict, Annotated, Literal\n",
    "from pydantic import Field, BaseModel\n",
    "from dotenv import load_dotenv\n",
    "import os\n",
    "from langchain_google_genai import ChatGoogleGenerativeAI\n",
    "from langgraph.graph.message import add_messages\n",
    "from langgraph.checkpoint.memory import MemorySaver\n",
    "\n",
    "load_dotenv()\n"
   ]
  },
  {
   "cell_type": "code",
   "execution_count": 63,
   "id": "822d97b7",
   "metadata": {},
   "outputs": [],
   "source": [
    "def get_gemini_model(model_name: str = \"gemini-2.5-flash\"):\n",
    "    model = ChatGoogleGenerativeAI(\n",
    "        google_api_key=os.getenv(\"GOOGLE_API_KEY\"),\n",
    "        model=model_name,\n",
    "        temperature=0,\n",
    "    )\n",
    "    return model"
   ]
  },
  {
   "cell_type": "code",
   "execution_count": 64,
   "id": "050f145e",
   "metadata": {},
   "outputs": [],
   "source": [
    "class ChatState(TypedDict):\n",
    "    chat_history: Annotated[list[BaseMessage], add_messages]"
   ]
  },
  {
   "cell_type": "code",
   "execution_count": 65,
   "id": "9739e837",
   "metadata": {},
   "outputs": [],
   "source": [
    "llm = get_gemini_model(\"gemini-2.5-flash-lite\")"
   ]
  },
  {
   "cell_type": "code",
   "execution_count": null,
   "id": "88d62ae8",
   "metadata": {},
   "outputs": [],
   "source": [
    "def chat_node(state: ChatState) -> ChatState:\n",
    "    messages = state[\"chat_history\"]\n",
    "    response = llm.invoke(messages)\n",
    "    return {\"chat_history\": [response]}\n",
    "\n",
    "\n",
    "# def chat_end(state: ChatState):\n",
    "#     if"
   ]
  },
  {
   "cell_type": "code",
   "execution_count": 67,
   "id": "5103aba8",
   "metadata": {},
   "outputs": [
    {
     "data": {
      "text/plain": [
       "<langgraph.graph.state.StateGraph at 0x1700d315910>"
      ]
     },
     "execution_count": 67,
     "metadata": {},
     "output_type": "execute_result"
    }
   ],
   "source": [
    "checkpointer = MemorySaver()\n",
    "graph = StateGraph(ChatState)\n",
    "\n",
    "graph.add_node(\"chat_node\", chat_node)\n",
    "\n",
    "graph.add_edge(START, \"chat_node\")\n",
    "graph.add_edge(\"chat_node\", END)\n",
    "# graph.add_conditional_edge(\"chat_node\", chat_end, {})"
   ]
  },
  {
   "cell_type": "code",
   "execution_count": 69,
   "id": "03b999fe",
   "metadata": {},
   "outputs": [
    {
     "data": {
      "image/png": "[encoded data removed]",
      "text/plain": [
       "<langgraph.graph.state.CompiledStateGraph object at 0x000001700D8EEFF0>"
      ]
     },
     "execution_count": 69,
     "metadata": {},
     "output_type": "execute_result"
    }
   ],
   "source": [
    "workflow = graph.compile(checkpointer=checkpointer)\n",
    "workflow"
   ]
  },
  {
   "cell_type": "code",
   "execution_count": null,
   "id": "74a57f0c",
   "metadata": {},
   "outputs": [],
   "source": [
    "response = workflow.invoke(\n",
    "    {\"chat_history\": [HumanMessage(content=\"What is the capital of India?\")]}\n",
    ")"
   ]
  },
  {
   "cell_type": "code",
   "execution_count": 53,
   "id": "f65e7a9f",
   "metadata": {},
   "outputs": [
    {
     "data": {
      "text/plain": [
       "{'chat_history': [HumanMessage(content='What is the capital of India?', additional_kwargs={}, response_metadata={}, id='52a0e9a4-9bba-4e20-a402-495d28a4378d'),\n",
       "  AIMessage(content='The capital of India is **New Delhi**.', additional_kwargs={}, response_metadata={'prompt_feedback': {'block_reason': 0, 'safety_ratings': []}, 'finish_reason': 'STOP', 'model_name': 'gemini-2.5-flash-lite', 'safety_ratings': []}, id='run--5032543e-9751-428e-a0f5-91d895f4de14-0', usage_metadata={'input_tokens': 8, 'output_tokens': 9, 'total_tokens': 17, 'input_token_details': {'cache_read': 0}})]}"
      ]
     },
     "execution_count": 53,
     "metadata": {},
     "output_type": "execute_result"
    }
   ],
   "source": [
    "response"
   ]
  },
  {
   "cell_type": "code",
   "execution_count": null,
   "id": "c19373a3",
   "metadata": {},
   "outputs": [
    {
     "name": "stdout",
     "output_type": "stream",
     "text": [
      "You: hi\n",
      "AI: Hello! How can I help you today?\n",
      "You: my name is amey\n",
      "AI: It's nice to meet you, Amey!\n",
      "You: what is my name\n",
      "AI: Your name is Amey.\n",
      "You: add 10 to 100\n",
      "AI: 100 plus 10 equals 110.\n",
      "You: and 15 to the result\n",
      "AI: Adding 15 to 110 gives you 125.\n",
      "You: bye\n",
      "Exiting the chat. Goodbye!\n"
     ]
    }
   ],
   "source": [
    "chat = []\n",
    "chat.append(\n",
    "    SystemMessage(\n",
    "        content=\"You are a helpful QA assistant bot. Answer in one sentence using simple language keeping the answer as short as possible.\"\n",
    "    )\n",
    ")\n",
    "while True:\n",
    "    user_input = input(\"You: \")\n",
    "    chat.append(HumanMessage(content=user_input))\n",
    "    print(f\"You: {user_input}\")\n",
    "    if user_input.lower() in [\"exit\", \"quit\", \"bye\"]:\n",
    "        print(\"Exiting the chat. Goodbye!\")\n",
    "        chat = []\n",
    "        break\n",
    "    response = workflow.invoke({\"chat_history\": chat})\n",
    "    ai_message = response[\"chat_history\"][-1]\n",
    "    chat.append(ai_message)\n",
    "    print(f\"AI: {ai_message.content}\")"
   ]
  },
  {
   "cell_type": "code",
   "execution_count": 73,
   "id": "fae123ed",
   "metadata": {},
   "outputs": [],
   "source": [
    "thread_id = \"1\"\n",
    "\n",
    "config = {\"configurable\": {\"thread_id\": thread_id}}\n",
    "\n",
    "response = workflow.invoke(\n",
    "    {\"chat_history\": [HumanMessage(content=\"Hi my name is Amey\")]}, config=config\n",
    ")\n",
    "\n",
    "response2 = workflow.invoke(\n",
    "    {\"chat_history\": [HumanMessage(content=\"What is my name?\")]}, config=config\n",
    ")"
   ]
  },
  {
   "cell_type": "code",
   "execution_count": 74,
   "id": "b325cc50",
   "metadata": {},
   "outputs": [
    {
     "data": {
      "text/plain": [
       "{'chat_history': [HumanMessage(content='What is the capital of India?', additional_kwargs={}, response_metadata={}, id='d192babb-33c6-48a9-bb09-fce6b6d0926a'),\n",
       "  AIMessage(content='The capital of India is **New Delhi**.', additional_kwargs={}, response_metadata={'prompt_feedback': {'block_reason': 0, 'safety_ratings': []}, 'finish_reason': 'STOP', 'model_name': 'gemini-2.5-flash-lite', 'safety_ratings': []}, id='run--2e5a9fe0-60e4-41b6-ac90-ef299ba04dca-0', usage_metadata={'input_tokens': 8, 'output_tokens': 9, 'total_tokens': 17, 'input_token_details': {'cache_read': 0}}),\n",
       "  HumanMessage(content='Hi my name is Amey', additional_kwargs={}, response_metadata={}, id='b4fd2c90-2f6f-4e45-90cd-b5cb4f795c64'),\n",
       "  AIMessage(content=\"Hi Amey! It's nice to meet you. How can I help you today?\", additional_kwargs={}, response_metadata={'prompt_feedback': {'block_reason': 0, 'safety_ratings': []}, 'finish_reason': 'STOP', 'model_name': 'gemini-2.5-flash-lite', 'safety_ratings': []}, id='run--43531e87-5d95-4be6-b0dd-9a69aa7829a3-0', usage_metadata={'input_tokens': 25, 'output_tokens': 19, 'total_tokens': 44, 'input_token_details': {'cache_read': 0}})]}"
      ]
     },
     "execution_count": 74,
     "metadata": {},
     "output_type": "execute_result"
    }
   ],
   "source": [
    "response"
   ]
  },
  {
   "cell_type": "code",
   "execution_count": 75,
   "id": "4dad03cf",
   "metadata": {},
   "outputs": [
    {
     "data": {
      "text/plain": [
       "{'chat_history': [HumanMessage(content='What is the capital of India?', additional_kwargs={}, response_metadata={}, id='d192babb-33c6-48a9-bb09-fce6b6d0926a'),\n",
       "  AIMessage(content='The capital of India is **New Delhi**.', additional_kwargs={}, response_metadata={'prompt_feedback': {'block_reason': 0, 'safety_ratings': []}, 'finish_reason': 'STOP', 'model_name': 'gemini-2.5-flash-lite', 'safety_ratings': []}, id='run--2e5a9fe0-60e4-41b6-ac90-ef299ba04dca-0', usage_metadata={'input_tokens': 8, 'output_tokens': 9, 'total_tokens': 17, 'input_token_details': {'cache_read': 0}}),\n",
       "  HumanMessage(content='Hi my name is Amey', additional_kwargs={}, response_metadata={}, id='b4fd2c90-2f6f-4e45-90cd-b5cb4f795c64'),\n",
       "  AIMessage(content=\"Hi Amey! It's nice to meet you. How can I help you today?\", additional_kwargs={}, response_metadata={'prompt_feedback': {'block_reason': 0, 'safety_ratings': []}, 'finish_reason': 'STOP', 'model_name': 'gemini-2.5-flash-lite', 'safety_ratings': []}, id='run--43531e87-5d95-4be6-b0dd-9a69aa7829a3-0', usage_metadata={'input_tokens': 25, 'output_tokens': 19, 'total_tokens': 44, 'input_token_details': {'cache_read': 0}}),\n",
       "  HumanMessage(content='What is my name?', additional_kwargs={}, response_metadata={}, id='deac00eb-534c-49a7-af95-fe6e5d62f6e9'),\n",
       "  AIMessage(content='Your name is **Amey**.', additional_kwargs={}, response_metadata={'prompt_feedback': {'block_reason': 0, 'safety_ratings': []}, 'finish_reason': 'STOP', 'model_name': 'gemini-2.5-flash-lite', 'safety_ratings': []}, id='run--177ddbc4-e5eb-4efb-9492-1f9d7f378449-0', usage_metadata={'input_tokens': 51, 'output_tokens': 7, 'total_tokens': 58, 'input_token_details': {'cache_read': 0}})]}"
      ]
     },
     "execution_count": 75,
     "metadata": {},
     "output_type": "execute_result"
    }
   ],
   "source": [
    "response2"
   ]
  },
  {
   "cell_type": "code",
   "execution_count": 76,
   "id": "474eb414",
   "metadata": {},
   "outputs": [
    {
     "data": {
      "text/plain": [
       "StateSnapshot(values={'chat_history': [HumanMessage(content='What is the capital of India?', additional_kwargs={}, response_metadata={}, id='d192babb-33c6-48a9-bb09-fce6b6d0926a'), AIMessage(content='The capital of India is **New Delhi**.', additional_kwargs={}, response_metadata={'prompt_feedback': {'block_reason': 0, 'safety_ratings': []}, 'finish_reason': 'STOP', 'model_name': 'gemini-2.5-flash-lite', 'safety_ratings': []}, id='run--2e5a9fe0-60e4-41b6-ac90-ef299ba04dca-0', usage_metadata={'input_tokens': 8, 'output_tokens': 9, 'total_tokens': 17, 'input_token_details': {'cache_read': 0}}), HumanMessage(content='Hi my name is Amey', additional_kwargs={}, response_metadata={}, id='b4fd2c90-2f6f-4e45-90cd-b5cb4f795c64'), AIMessage(content=\"Hi Amey! It's nice to meet you. How can I help you today?\", additional_kwargs={}, response_metadata={'prompt_feedback': {'block_reason': 0, 'safety_ratings': []}, 'finish_reason': 'STOP', 'model_name': 'gemini-2.5-flash-lite', 'safety_ratings': []}, id='run--43531e87-5d95-4be6-b0dd-9a69aa7829a3-0', usage_metadata={'input_tokens': 25, 'output_tokens': 19, 'total_tokens': 44, 'input_token_details': {'cache_read': 0}}), HumanMessage(content='What is my name?', additional_kwargs={}, response_metadata={}, id='deac00eb-534c-49a7-af95-fe6e5d62f6e9'), AIMessage(content='Your name is **Amey**.', additional_kwargs={}, response_metadata={'prompt_feedback': {'block_reason': 0, 'safety_ratings': []}, 'finish_reason': 'STOP', 'model_name': 'gemini-2.5-flash-lite', 'safety_ratings': []}, id='run--177ddbc4-e5eb-4efb-9492-1f9d7f378449-0', usage_metadata={'input_tokens': 51, 'output_tokens': 7, 'total_tokens': 58, 'input_token_details': {'cache_read': 0}})]}, next=(), config={'configurable': {'thread_id': '1', 'checkpoint_ns': '', 'checkpoint_id': '1f099c61-3604-6bf0-8007-f277b4048a91'}}, metadata={'source': 'loop', 'step': 7, 'parents': {}}, created_at='2025-09-25T04:14:05.613771+00:00', parent_config={'configurable': {'thread_id': '1', 'checkpoint_ns': '', 'checkpoint_id': '1f099c61-29ef-674a-8006-f2c0fdf8251c'}}, tasks=(), interrupts=())"
      ]
     },
     "execution_count": 76,
     "metadata": {},
     "output_type": "execute_result"
    }
   ],
   "source": [
    "workflow.get_state(config)"
   ]
  },
  {
   "cell_type": "code",
   "execution_count": null,
   "id": "b94c907f",
   "metadata": {},
   "outputs": [],
   "source": []
  }
 ],
 "metadata": {
  "kernelspec": {
   "display_name": ".venv (3.12.1)",
   "language": "python",
   "name": "python3"
  },
  "language_info": {
   "codemirror_mode": {
    "name": "ipython",
    "version": 3
   },
   "file_extension": ".py",
   "mimetype": "text/x-python",
   "name": "python",
   "nbconvert_exporter": "python",
   "pygments_lexer": "ipython3",
   "version": "3.12.1"
  }
 },
 "nbformat": 4,
 "nbformat_minor": 5
}
