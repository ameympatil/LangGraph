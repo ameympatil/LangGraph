{
 "cells": [
  {
   "cell_type": "code",
   "execution_count": 23,
   "id": "fb2e520b",
   "metadata": {},
   "outputs": [
    {
     "data": {
      "text/plain": [
       "True"
      ]
     },
     "execution_count": 23,
     "metadata": {},
     "output_type": "execute_result"
    }
   ],
   "source": [
    "from langgraph.graph import StateGraph, START, END\n",
    "from typing import TypedDict, Annotated, Literal\n",
    "from pydantic import Field, BaseModel\n",
    "from dotenv import load_dotenv\n",
    "import os\n",
    "from langchain_google_genai import ChatGoogleGenerativeAI\n",
    "\n",
    "load_dotenv()"
   ]
  },
  {
   "cell_type": "code",
   "execution_count": 24,
   "id": "bb1e8854",
   "metadata": {},
   "outputs": [],
   "source": [
    "def get_gemini_model():\n",
    "    model = ChatGoogleGenerativeAI(\n",
    "        google_api_key=os.getenv(\"GOOGLE_API_KEY\"),\n",
    "        model=\"gemini-2.5-flash\",\n",
    "        temperature=0,\n",
    "    )\n",
    "    return model\n",
    "\n",
    "\n",
    "llm = get_gemini_model()"
   ]
  },
  {
   "cell_type": "code",
   "execution_count": 25,
   "id": "1e3da34c",
   "metadata": {},
   "outputs": [],
   "source": [
    "class SentimentSchema(BaseModel):\n",
    "    sentiment: Literal[\"positive\", \"negative\"] = Field(\n",
    "        description=\"The sentiment of the review\"\n",
    "    )\n",
    "\n",
    "\n",
    "llm_with_sentiment = llm.with_structured_output(SentimentSchema)\n",
    "\n",
    "\n",
    "class DiagnosisSchema(BaseModel):\n",
    "    issue_type: Literal[\"UX\", \"Performance\", \"Bug\", \"Support\", \"Other\"] = Field(\n",
    "        description=\"The type of issue\"\n",
    "    )\n",
    "    tone: str = Field(description=\"The tone of the review\")\n",
    "    urgency: Literal[\"low\", \"medium\", \"high\"] = Field(\n",
    "        description=\"The urgency of the issue\"\n",
    "    )\n",
    "\n",
    "\n",
    "llm_with_diagnosis = llm.with_structured_output(DiagnosisSchema)"
   ]
  },
  {
   "cell_type": "code",
   "execution_count": 26,
   "id": "4ae15892",
   "metadata": {},
   "outputs": [],
   "source": [
    "class ReviewState(TypedDict):\n",
    "    review: str\n",
    "    sentiment: Literal[\"positive\", \"negative\"]\n",
    "    diagnosis: dict\n",
    "    response: str"
   ]
  },
  {
   "cell_type": "code",
   "execution_count": 27,
   "id": "aa9a4c5a",
   "metadata": {},
   "outputs": [],
   "source": [
    "# Functions for nodes\n",
    "def find_sentiment(state: ReviewState) -> ReviewState:\n",
    "    prompt = f\"Determine the sentiment of the given review: {state['review']}. Respond with 'positive' or 'negative'.\"\n",
    "    sentiment = llm_with_sentiment.invoke(prompt).sentiment\n",
    "    return {\"sentiment\": sentiment}\n",
    "\n",
    "\n",
    "def positive_response(state: ReviewState) -> ReviewState:\n",
    "    prompt = f\"Write a warm thank-you message in response to this review: {state['review']}. Also, kindly ask the customer to consider leaving a 5-star review on the website.\"\n",
    "    response = llm.invoke(prompt).content\n",
    "    return {\"response\": response}\n",
    "\n",
    "\n",
    "def negative_response(state: ReviewState) -> ReviewState:\n",
    "    prompt = f\"Write a sympathetic apology message in response to this negative review: {state['review']}. Assure the customer that their concerns are being addressed and that a team member will reach out to them shortly.\"\n",
    "    response = llm.invoke(prompt).content\n",
    "    return {\"response\": response}\n",
    "\n",
    "\n",
    "def run_diagnosis(state: ReviewState) -> ReviewState:\n",
    "    prompt = f\"Analyze the following negative review and provide a structured diagnosis including issue type, tone, and urgency: {state['review']}.\"\n",
    "    diagnosis = llm_with_diagnosis.invoke(prompt).model_dump()\n",
    "    return {\"diagnosis\": diagnosis}\n",
    "\n",
    "\n",
    "def check_sentiment(\n",
    "    state: ReviewState,\n",
    ") -> str:\n",
    "    if state[\"sentiment\"] == \"positive\":\n",
    "        return \"Positive\"\n",
    "    else:\n",
    "        return \"Negative\""
   ]
  },
  {
   "cell_type": "code",
   "execution_count": 28,
   "id": "efa3c21b",
   "metadata": {},
   "outputs": [],
   "source": [
    "graph = StateGraph(ReviewState)\n",
    "\n",
    "# nodes\n",
    "graph.add_node(\"Find Sentiment\", find_sentiment)\n",
    "graph.add_node(\"Run Diagnosis\", run_diagnosis)\n",
    "graph.add_node(\"Positive Response\", positive_response)\n",
    "graph.add_node(\"Negative Response\", negative_response)\n",
    "\n",
    "# edges\n",
    "graph.add_edge(START, \"Find Sentiment\")\n",
    "graph.add_conditional_edges(\"Find Sentiment\", check_sentiment, {\"Positive\": \"Positive Response\", \"Negative\": \"Run Diagnosis\"})\n",
    "graph.add_edge(\"Positive Response\", END)\n",
    "graph.add_edge(\"Run Diagnosis\", \"Negative Response\")\n",
    "graph.add_edge(\"Negative Response\", END)\n",
    "\n",
    "workflow = graph.compile()"
   ]
  },
  {
   "cell_type": "code",
   "execution_count": 29,
   "id": "d098beb4",
   "metadata": {},
   "outputs": [
    {
     "data": {
      "text/plain": [
       "{'review': \"I'm really disappointed with this app. It crashes frequently, is very slow to load, and the user interface is confusing. I also had trouble getting support when I reached out for help.\",\n",
       " 'sentiment': 'negative',\n",
       " 'diagnosis': {'issue_type': 'Bug', 'tone': 'Disappointed', 'urgency': 'high'},\n",
       " 'response': \"We are so genuinely sorry to hear about your incredibly frustrating experience with our app. Your detailed feedback is extremely important to us, and we truly regret that we've fallen short of your expectations.\\n\\nThe frequent crashes, slow loading times, and confusing user interface you've described are absolutely not the experience we want for our users. We are especially concerned to hear that you had trouble getting support when you reached out for help – that is unacceptable.\\n\\nPlease know that your concerns are being taken very seriously. Our development and product teams are actively investigating these issues as top priorities, and we are committed to resolving the stability, performance, and usability problems you've highlighted.\\n\\nTo ensure we fully understand the specifics of your situation and can provide the best possible assistance, a dedicated member of our support team will be reaching out to you directly very shortly.\\n\\nWe truly value your business and are determined to earn back your trust. Thank you for bringing these critical issues to our attention, and we apologize again for the significant inconvenience.\"}"
      ]
     },
     "execution_count": 29,
     "metadata": {},
     "output_type": "execute_result"
    }
   ],
   "source": [
    "initial_state = {\n",
    "    \"review\": \"I'm really disappointed with this app. It crashes frequently, is very slow to load, and the user interface is confusing. I also had trouble getting support when I reached out for help.\"\n",
    "}\n",
    "workflow.invoke(initial_state)"
   ]
  },
  {
   "cell_type": "code",
   "execution_count": null,
   "id": "ec31a60e",
   "metadata": {},
   "outputs": [],
   "source": []
  },
  {
   "cell_type": "code",
   "execution_count": null,
   "id": "43de636c",
   "metadata": {},
   "outputs": [],
   "source": []
  }
 ],
 "metadata": {
  "kernelspec": {
   "display_name": ".venv (3.12.1)",
   "language": "python",
   "name": "python3"
  },
  "language_info": {
   "codemirror_mode": {
    "name": "ipython",
    "version": 3
   },
   "file_extension": ".py",
   "mimetype": "text/x-python",
   "name": "python",
   "nbconvert_exporter": "python",
   "pygments_lexer": "ipython3",
   "version": "3.12.1"
  }
 },
 "nbformat": 4,
 "nbformat_minor": 5
}
