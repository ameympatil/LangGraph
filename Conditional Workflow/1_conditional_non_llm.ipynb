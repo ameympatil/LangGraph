{
 "cells": [
  {
   "cell_type": "code",
   "execution_count": null,
   "id": "7b4444ad",
   "metadata": {},
   "outputs": [],
   "source": [
    "from langgraph.graph import StateGraph, START, END\n",
    "from typing import TypedDict, Literal"
   ]
  },
  {
   "cell_type": "code",
   "execution_count": 14,
   "id": "c35f84d4",
   "metadata": {},
   "outputs": [],
   "source": [
    "class QuadState(TypedDict):\n",
    "    a: int\n",
    "    b: int\n",
    "    c: int\n",
    "    discriminant: float\n",
    "    equation: str\n",
    "    result: str"
   ]
  },
  {
   "cell_type": "code",
   "execution_count": null,
   "id": "3b33d8a8",
   "metadata": {},
   "outputs": [],
   "source": [
    "def show_equation(state: QuadState) -> QuadState:\n",
    "    equation = f\"{state['a']}x^2 + {state['b']}x + {state['c']} = 0\"\n",
    "    return {\"equation\": equation}\n",
    "\n",
    "\n",
    "def calculate_discriminant(state: QuadState) -> QuadState:\n",
    "    discriminant = state[\"b\"] ** 2 - (4 * state[\"a\"] * state[\"c\"])\n",
    "    return {\"discriminant\": discriminant}\n",
    "\n",
    "\n",
    "def real_roots(state: QuadState) -> QuadState:\n",
    "    print(\"Calculating real roots\")\n",
    "    root1 = (-state[\"b\"] + state[\"discriminant\"] ** 0.5) / (2 * state[\"a\"])\n",
    "    root2 = (-state[\"b\"] - state[\"discriminant\"] ** 0.5) / (2 * state[\"a\"])\n",
    "    result = f\"Real roots: {root1} and {root2}\"\n",
    "    return {\"result\": result}\n",
    "\n",
    "\n",
    "def repeated_roots(state: QuadState) -> QuadState:\n",
    "    print(\"Calculating repeated root\")\n",
    "    root = (-state[\"b\"]) / (2 * state[\"a\"])\n",
    "    result = f\"Repeated root: {root}\"\n",
    "    return {\"result\": result}\n",
    "\n",
    "\n",
    "def no_real_roots(state: QuadState) -> QuadState:\n",
    "    print(\"No real roots\")\n",
    "    return {\"result\": \"No real roots\"}\n",
    "\n",
    "\n",
    "def check_condition(\n",
    "    state: QuadState,\n",
    ") -> Literal[\"real_roots\", \"repeated_roots\", \"no_real_roots\"]:\n",
    "    if state[\"discriminant\"] > 0:\n",
    "        return \"real_roots\"\n",
    "    elif state[\"discriminant\"] == 0:\n",
    "        return \"repeated_roots\"\n",
    "    else:\n",
    "        return \"no_real_roots\""
   ]
  },
  {
   "cell_type": "code",
   "execution_count": null,
   "id": "79f7cead",
   "metadata": {},
   "outputs": [],
   "source": [
    "graph = StateGraph(QuadState)\n",
    "\n",
    "graph.add_node(\"show_equation\", show_equation)\n",
    "graph.add_node(\"calculate_discriminant\", calculate_discriminant)\n",
    "graph.add_node(\"real_roots\", real_roots)\n",
    "graph.add_node(\"repeated_roots\", repeated_roots)\n",
    "graph.add_node(\"no_real_roots\", no_real_roots)\n",
    "\n",
    "graph.add_edge(START, \"show_equation\")\n",
    "graph.add_edge(\"show_equation\", \"calculate_discriminant\")\n",
    "graph.add_conditional_edges(\"calculate_discriminant\", check_condition)\n",
    "graph.add_edge(\"real_roots\", END)\n",
    "graph.add_edge(\"repeated_roots\", END)\n",
    "graph.add_edge(\"no_real_roots\", END)\n",
    "\n",
    "workflow = graph.compile()"
   ]
  },
  {
   "cell_type": "code",
   "execution_count": 35,
   "id": "db0709f1",
   "metadata": {},
   "outputs": [
    {
     "data": {
      "image/png": "[encoded data removed]",
      "text/plain": [
       "<langgraph.graph.state.CompiledStateGraph object at 0x000001F3033743B0>"
      ]
     },
     "execution_count": 35,
     "metadata": {},
     "output_type": "execute_result"
    }
   ],
   "source": [
    "workflow"
   ]
  },
  {
   "cell_type": "code",
   "execution_count": 40,
   "id": "86f62b57",
   "metadata": {},
   "outputs": [
    {
     "name": "stdout",
     "output_type": "stream",
     "text": [
      "Calculating repeated root\n"
     ]
    }
   ],
   "source": [
    "initial_state = {\"a\": 2, \"b\": 4, \"c\": 2}\n",
    "final_resp = workflow.invoke(initial_state)"
   ]
  },
  {
   "cell_type": "code",
   "execution_count": 41,
   "id": "d0d1c845",
   "metadata": {},
   "outputs": [
    {
     "data": {
      "text/plain": [
       "{'a': 2,\n",
       " 'b': 4,\n",
       " 'c': 2,\n",
       " 'discriminant': 0,\n",
       " 'equation': '2x^2 + 4x + 2 = 0',\n",
       " 'result': 'Repeated root: -1.0'}"
      ]
     },
     "execution_count": 41,
     "metadata": {},
     "output_type": "execute_result"
    }
   ],
   "source": [
    "final_resp"
   ]
  },
  {
   "cell_type": "code",
   "execution_count": null,
   "id": "cbd51305",
   "metadata": {},
   "outputs": [],
   "source": []
  },
  {
   "cell_type": "code",
   "execution_count": null,
   "id": "14c799b5",
   "metadata": {},
   "outputs": [],
   "source": []
  }
 ],
 "metadata": {
  "kernelspec": {
   "display_name": ".venv (3.12.1)",
   "language": "python",
   "name": "python3"
  },
  "language_info": {
   "codemirror_mode": {
    "name": "ipython",
    "version": 3
   },
   "file_extension": ".py",
   "mimetype": "text/x-python",
   "name": "python",
   "nbconvert_exporter": "python",
   "pygments_lexer": "ipython3",
   "version": "3.12.1"
  }
 },
 "nbformat": 4,
 "nbformat_minor": 5
}
