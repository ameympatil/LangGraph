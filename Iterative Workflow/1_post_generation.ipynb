{
 "cells": [
  {
   "cell_type": "code",
   "execution_count": 11,
   "id": "3f268dca",
   "metadata": {},
   "outputs": [
    {
     "data": {
      "text/plain": [
       "True"
      ]
     },
     "execution_count": 11,
     "metadata": {},
     "output_type": "execute_result"
    }
   ],
   "source": [
    "from langgraph.graph import StateGraph, START, END\n",
    "from langchain_core.messages import HumanMessage, SystemMessage, AIMessage\n",
    "from typing import TypedDict, Annotated, Literal\n",
    "from pydantic import Field, BaseModel\n",
    "from dotenv import load_dotenv\n",
    "import os\n",
    "from langchain_google_genai import ChatGoogleGenerativeAI\n",
    "import operator\n",
    "\n",
    "load_dotenv()"
   ]
  },
  {
   "cell_type": "code",
   "execution_count": 12,
   "id": "a6a77cd5",
   "metadata": {},
   "outputs": [],
   "source": [
    "def get_gemini_model(model_name: str = \"gemini-2.5-flash-lite\"):\n",
    "    model = ChatGoogleGenerativeAI(\n",
    "        google_api_key=os.getenv(\"GOOGLE_API_KEY\"),\n",
    "        model=model_name,\n",
    "        temperature=0,\n",
    "    )\n",
    "    return model"
   ]
  },
  {
   "cell_type": "code",
   "execution_count": 13,
   "id": "f71ef131",
   "metadata": {},
   "outputs": [],
   "source": [
    "class EvaluateSchema(BaseModel):\n",
    "    score: Annotated[int, Field(ge=0, le=10, description=\"Score from 0 to 10\")]\n",
    "    evaluation: Literal[\"Approved\", \"Needs Improvement\"]\n",
    "    feedback: str"
   ]
  },
  {
   "cell_type": "code",
   "execution_count": 14,
   "id": "a64fb5a1",
   "metadata": {},
   "outputs": [],
   "source": [
    "llm = get_gemini_model(\"gemini-2.5-flash-lite\")\n",
    "llm2 = get_gemini_model(\"gemini-2.5-flash\")\n",
    "llm_eval = llm2.with_structured_output(EvaluateSchema)"
   ]
  },
  {
   "cell_type": "code",
   "execution_count": 15,
   "id": "6819ae56",
   "metadata": {},
   "outputs": [],
   "source": [
    "class PostState(TypedDict):\n",
    "    topic: str\n",
    "    post: str\n",
    "    evaluation: Literal[\"Approved\", \"Needs Improvement\"]\n",
    "    feedback: str\n",
    "    iterations: int\n",
    "    max_iteration: int\n",
    "    post_history: Annotated[list[str], operator.add]\n",
    "    feedback_history: Annotated[list[str], operator.add]"
   ]
  },
  {
   "cell_type": "code",
   "execution_count": 20,
   "id": "684d6b34",
   "metadata": {},
   "outputs": [],
   "source": [
    "def generate_post(state: PostState) -> PostState:\n",
    "    messages = [\n",
    "        SystemMessage(content=\"You are a funny and clever Twitter/X influencer.\"),\n",
    "        HumanMessage(\n",
    "            content=f\"\"\"\n",
    "Write a short, original, and hilarious tweet on the topic: \"{state[\"topic\"]}\".\n",
    "\n",
    "Rules:\n",
    "- Do NOT use question-answer format.\n",
    "- Max 280 characters.\n",
    "- Use observational humor, irony, sarcasm, or cultural references.\n",
    "- Think in meme logic, punchlines, or relatable takes.\n",
    "- Use simple, day to day english\n",
    "\"\"\"\n",
    "        ),\n",
    "    ]\n",
    "    post = llm.invoke(messages).content\n",
    "    return {\"post\": post, \"iterations\": 1, \"post_history\": [post]}\n",
    "\n",
    "\n",
    "def evaluate(state: PostState) -> PostState:\n",
    "    messages = [\n",
    "        SystemMessage(\n",
    "            content=\"You are a ruthless, no-laugh-given Twitter critic. You evaluate tweets based on humor, originality, virality, and tweet format.\"\n",
    "        ),\n",
    "        HumanMessage(\n",
    "            content=f\"\"\"\n",
    "Evaluate the following tweet:\n",
    "\n",
    "Tweet: \"{state[\"post\"]}\"\n",
    "\n",
    "Use the criteria below to evaluate the tweet:\n",
    "\n",
    "1. Originality – Is this fresh, or have you seen it a hundred times before?  \n",
    "2. Humor – Did it genuinely make you smile, laugh, or chuckle?  \n",
    "3. Punchiness – Is it short, sharp, and scroll-stopping?  \n",
    "4. Virality Potential – Would people retweet or share it?  \n",
    "5. Format – Is it a well-formed tweet (not a setup-punchline joke, not a Q&A joke, and under 280 characters)?\n",
    "\n",
    "Auto-reject if:\n",
    "- It's written in question-answer format (e.g., \"Why did...\" or \"What happens when...\")\n",
    "- It exceeds 280 characters\n",
    "- It reads like a traditional setup-punchline joke\n",
    "- Dont end with generic, throwaway, or deflating lines that weaken the humor (e.g., “Masterpieces of the auntie-uncle universe” or vague summaries)\n",
    "\n",
    "### Respond ONLY in structured format:\n",
    "- evaluation: \"approved\" or \"needs_improvement\"  \n",
    "- feedback: One paragraph explaining the strengths and weaknesses \n",
    "\"\"\"\n",
    "        ),\n",
    "    ]\n",
    "\n",
    "    response = llm_eval.invoke(messages)\n",
    "    evaluation = response.evaluation\n",
    "    feedback = response.feedback\n",
    "    return {\"evaluation\": evaluation, \"feedback\": feedback, \"feedback_history\": [feedback]}\n",
    "\n",
    "\n",
    "def optimize(state: PostState) -> PostState:\n",
    "    messages = [\n",
    "        SystemMessage(\n",
    "            content=\"You punch up tweets for virality and humor based on given feedback.\"\n",
    "        ),\n",
    "        HumanMessage(\n",
    "            content=f\"\"\"\n",
    "Improve the tweet based on this feedback:\n",
    "\"{state[\"feedback\"]}\"\n",
    "\n",
    "Topic: \"{state[\"topic\"]}\"\n",
    "Original Tweet:\n",
    "{state[\"post\"]}\n",
    "\n",
    "Re-write it as a short, viral-worthy tweet. Avoid Q&A style and stay under 280 characters.\n",
    "\"\"\"\n",
    "        ),\n",
    "    ]\n",
    "    improved_post = llm.invoke(messages).content\n",
    "    return {\"post\": improved_post, \"iterations\": state[\"iterations\"] + 1, \"post_history\": [improved_post]}\n",
    "\n",
    "\n",
    "def approval(state: PostState) -> PostState:\n",
    "    if (\n",
    "        state[\"evaluation\"] == \"Approved\"\n",
    "        or state[\"iterations\"] >= state[\"max_iteration\"]\n",
    "    ):\n",
    "        return \"approved\"\n",
    "    else:\n",
    "        return \"needs_improvement\""
   ]
  },
  {
   "cell_type": "code",
   "execution_count": 21,
   "id": "75a593bd",
   "metadata": {},
   "outputs": [],
   "source": [
    "graph = StateGraph(PostState)\n",
    "\n",
    "# nodes\n",
    "graph.add_node(\"generate_post\", generate_post)\n",
    "graph.add_node(\"evaluate\", evaluate)\n",
    "graph.add_node(\"optimize\", optimize)\n",
    "\n",
    "# edges\n",
    "graph.add_edge(START, \"generate_post\")\n",
    "graph.add_edge(\"generate_post\", \"evaluate\")\n",
    "graph.add_conditional_edges(\n",
    "    \"evaluate\", approval, {\"approved\": END, \"needs_improvement\": \"optimize\"}\n",
    ")\n",
    "graph.add_edge(\"optimize\", \"evaluate\")\n",
    "\n",
    "workflow = graph.compile()"
   ]
  },
  {
   "cell_type": "code",
   "execution_count": 22,
   "id": "998b2b2a",
   "metadata": {},
   "outputs": [
    {
     "data": {
      "image/png": "[encoded data removed]",
      "text/plain": [
       "<langgraph.graph.state.CompiledStateGraph object at 0x00000199CAF034D0>"
      ]
     },
     "execution_count": 22,
     "metadata": {},
     "output_type": "execute_result"
    }
   ],
   "source": [
    "workflow"
   ]
  },
  {
   "cell_type": "code",
   "execution_count": 28,
   "id": "48a1adcc",
   "metadata": {},
   "outputs": [],
   "source": [
    "response = workflow.invoke(\n",
    "    {\"topic\": \"abcd\", \"iterations\": 0, \"max_iteration\": 3}\n",
    ")"
   ]
  },
  {
   "cell_type": "code",
   "execution_count": 29,
   "id": "32d17066",
   "metadata": {},
   "outputs": [
    {
     "data": {
      "text/plain": [
       "{'topic': 'abcd',\n",
       " 'post': 'Here are a few options, playing with different angles to boost the humor and virality:\\n\\n**Option 1 (More relatable struggle):**\\n\\n> \"abcd\" is basically the alphabet\\'s way of saying \"I\\'m done with this.\" We\\'ve all been there. #AlphabetStruggles #Mood\\n\\n**Option 2 (Slightly more absurd personification):**\\n\\n> The alphabet just *really* checked out after \\'c\\'. Pretty sure \\'d\\' was just a sigh. #AlphabetStruggles #Relatable\\n\\n**Option 3 (Focus on the \"giving up\" energy):**\\n\\n> \"abcd\" is the alphabet\\'s official surrender flag. I respect the honesty. #AlphabetStruggles #Vibes\\n\\n**Option 4 (Short and punchy):**\\n\\n> The alphabet giving up at \"abcd\" is a whole mood. #AlphabetStruggles\\n\\n**Why these might be more viral:**\\n\\n*   **Stronger Verbs/Imagery:** \"Checked out,\" \"surrender flag,\" \"sigh\" are more evocative than just \"giving up.\"\\n*   **Relatability Amplified:** Phrases like \"We\\'ve all been there\" or \"a whole mood\" directly connect with the audience\\'s own feelings.\\n*   **Concise Punch:** They get to the humorous point faster.\\n*   **Hashtag Synergy:** The hashtags are still relevant but might feel a bit more integrated into the overall tone.\\n\\nChoose the one that best fits the specific vibe you\\'re going for!',\n",
       " 'evaluation': 'Needs Improvement',\n",
       " 'feedback': \"This submission is not a tweet; it's a meta-discussion offering multiple tweet options and an analysis of their potential virality. As such, it fails the fundamental format requirement of being a single, concise tweet under 280 characters. The entire block of text significantly exceeds the character limit, rendering it unsuitable for the platform it's supposedly designed for. There is no humor or punchiness in the meta-commentary itself, and it has zero virality potential as a standalone post.\",\n",
       " 'iterations': 3,\n",
       " 'max_iteration': 3,\n",
       " 'post_history': ['Just realized \"abcd\" is basically the alphabet\\'s way of saying \"I\\'m too tired to finish this sentence.\" Relatable. #alphabetstruggles #mood',\n",
       "  '\"abcd\" is just the alphabet giving up halfway through. #alphabetstruggles',\n",
       "  'Here are a few options, playing with different angles to boost the humor and virality:\\n\\n**Option 1 (More relatable struggle):**\\n\\n> \"abcd\" is basically the alphabet\\'s way of saying \"I\\'m done with this.\" We\\'ve all been there. #AlphabetStruggles #Mood\\n\\n**Option 2 (Slightly more absurd personification):**\\n\\n> The alphabet just *really* checked out after \\'c\\'. Pretty sure \\'d\\' was just a sigh. #AlphabetStruggles #Relatable\\n\\n**Option 3 (Focus on the \"giving up\" energy):**\\n\\n> \"abcd\" is the alphabet\\'s official surrender flag. I respect the honesty. #AlphabetStruggles #Vibes\\n\\n**Option 4 (Short and punchy):**\\n\\n> The alphabet giving up at \"abcd\" is a whole mood. #AlphabetStruggles\\n\\n**Why these might be more viral:**\\n\\n*   **Stronger Verbs/Imagery:** \"Checked out,\" \"surrender flag,\" \"sigh\" are more evocative than just \"giving up.\"\\n*   **Relatability Amplified:** Phrases like \"We\\'ve all been there\" or \"a whole mood\" directly connect with the audience\\'s own feelings.\\n*   **Concise Punch:** They get to the humorous point faster.\\n*   **Hashtag Synergy:** The hashtags are still relevant but might feel a bit more integrated into the overall tone.\\n\\nChoose the one that best fits the specific vibe you\\'re going for!'],\n",
       " 'feedback_history': ['The tweet attempts a relatable observation, which is a decent premise. It adheres to the character limit and avoids common formatting pitfalls like Q&A or setup-punchline structures. However, the humor is quite mild, barely eliciting a chuckle, and the phrase \"Relatable\" feels like it\\'s trying to force the audience\\'s reaction rather than letting the humor speak for itself. It lacks the sharp punchiness required to truly stand out in a feed, and its virality potential is limited due to the subdued humor and slightly wordy delivery.',\n",
       "  'The tweet is well-formatted and concise, adhering to Twitter\\'s best practices without resorting to common pitfalls like Q&A or setup-punchline structures. The observation itself is mildly amusing due to the personification of the alphabet \"giving up,\" which adds a touch of originality to a fairly common thought. However, the humor doesn\\'t land with significant impact, resulting in only a slight chuckle rather than a genuine laugh. While relatable, its virality potential is limited as it lacks the sharp wit or profound insight needed to truly stand out and compel widespread sharing.',\n",
       "  \"This submission is not a tweet; it's a meta-discussion offering multiple tweet options and an analysis of their potential virality. As such, it fails the fundamental format requirement of being a single, concise tweet under 280 characters. The entire block of text significantly exceeds the character limit, rendering it unsuitable for the platform it's supposedly designed for. There is no humor or punchiness in the meta-commentary itself, and it has zero virality potential as a standalone post.\"]}"
      ]
     },
     "execution_count": 29,
     "metadata": {},
     "output_type": "execute_result"
    }
   ],
   "source": [
    "response"
   ]
  },
  {
   "cell_type": "code",
   "execution_count": null,
   "id": "1125c604",
   "metadata": {},
   "outputs": [],
   "source": []
  },
  {
   "cell_type": "code",
   "execution_count": null,
   "id": "414f8f74",
   "metadata": {},
   "outputs": [],
   "source": []
  },
  {
   "cell_type": "code",
   "execution_count": null,
   "id": "bd1f33c3",
   "metadata": {},
   "outputs": [],
   "source": []
  }
 ],
 "metadata": {
  "kernelspec": {
   "display_name": ".venv (3.12.1)",
   "language": "python",
   "name": "python3"
  },
  "language_info": {
   "codemirror_mode": {
    "name": "ipython",
    "version": 3
   },
   "file_extension": ".py",
   "mimetype": "text/x-python",
   "name": "python",
   "nbconvert_exporter": "python",
   "pygments_lexer": "ipython3",
   "version": "3.12.1"
  }
 },
 "nbformat": 4,
 "nbformat_minor": 5
}
